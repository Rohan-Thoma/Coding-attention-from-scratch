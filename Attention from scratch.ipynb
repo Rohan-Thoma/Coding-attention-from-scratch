{
 "cells": [
  {
   "attachments": {},
   "cell_type": "markdown",
   "metadata": {},
   "source": [
    " # <b> <font color='red' size=25>CODING ATTENTION FROM SCRATCH FOR LANGUAGE TRANSLATION </font> </b>\n",
    " \n",
    "<b><font color = \"white\" size = 6.5>-----------------------------------------</font> <font color = \"green\" size = 6.5>Rohan Thoma</font></b>"
   ]
  },
  {
   "cell_type": "markdown",
   "metadata": {},
   "source": [
    "<img src='https://imgur.com/HEwk3T7.jpg'>"
   ]
  },
  {
   "cell_type": "markdown",
   "metadata": {},
   "source": [
    "## <b>Reference papers</b>\n",
    "\n",
    "<b>Paper 1</b>: Effective approach to attention based neural machine translation:\n",
    "https://arxiv.org/pdf/1409.0473.pdf\n",
    "\n",
    "<b>Paper 2</b>: Neural Machine Translation by jointly learning to align and translate:\n",
    "https://arxiv.org/pdf/1508.04025.pdf\n"
   ]
  },
  {
   "cell_type": "markdown",
   "metadata": {},
   "source": [
    "### <font color='blue'>**Downloading required files**</font>"
   ]
  },
  {
   "cell_type": "markdown",
   "metadata": {},
   "source": [
    "> lets download the data which have italian words along with its english translaton"
   ]
  },
  {
   "cell_type": "code",
   "execution_count": null,
   "metadata": {},
   "outputs": [
    {
     "name": "stdout",
     "output_type": "stream",
     "text": [
      "--2020-09-17 17:30:51--  http://www.manythings.org/anki/ita-eng.zip\n",
      "Resolving www.manythings.org (www.manythings.org)... 172.67.173.198, 104.24.108.196, 104.24.109.196, ...\n",
      "Connecting to www.manythings.org (www.manythings.org)|172.67.173.198|:80... connected.\n",
      "HTTP request sent, awaiting response... 200 OK\n",
      "Length: 7468237 (7.1M) [application/zip]\n",
      "Saving to: ‘ita-eng.zip’\n",
      "\n",
      "ita-eng.zip         100%[===================>]   7.12M  4.28MB/s    in 1.7s    \n",
      "\n",
      "2020-09-17 17:30:53 (4.28 MB/s) - ‘ita-eng.zip’ saved [7468237/7468237]\n",
      "\n",
      "Archive:  ita-eng.zip\n",
      "  inflating: ita.txt                 \n",
      "  inflating: _about.txt              \n"
     ]
    }
   ],
   "source": [
    "!wget http://www.manythings.org/anki/ita-eng.zip\n",
    "!unzip ita-eng.zip\n"
   ]
  },
  {
   "cell_type": "markdown",
   "metadata": {},
   "source": [
    "> lets download the glove vectors (\"vectors for english words\"), note that this file will have vectors with 50d, 100d and 300d, you can choose any one of them based on your computing power\n",
    "\n",
    "Here we will be passing english text to the decoder, so we will be using these vectors in decoder embedding layer"
   ]
  },
  {
   "cell_type": "code",
   "execution_count": null,
   "metadata": {},
   "outputs": [
    {
     "name": "stdout",
     "output_type": "stream",
     "text": [
      "--2020-08-29 17:23:15--  https://www.dropbox.com/s/ddkmtqz01jc024u/glove.6B.100d.txt\n",
      "Resolving www.dropbox.com (www.dropbox.com)... 162.125.65.1, 2620:100:6021:1::a27d:4101\n",
      "Connecting to www.dropbox.com (www.dropbox.com)|162.125.65.1|:443... connected.\n",
      "HTTP request sent, awaiting response... 301 Moved Permanently\n",
      "Location: /s/raw/ddkmtqz01jc024u/glove.6B.100d.txt [following]\n",
      "--2020-08-29 17:23:15--  https://www.dropbox.com/s/raw/ddkmtqz01jc024u/glove.6B.100d.txt\n",
      "Reusing existing connection to www.dropbox.com:443.\n",
      "HTTP request sent, awaiting response... 302 Found\n",
      "Location: https://uca40c7c23141e02ee0b88baa137.dl.dropboxusercontent.com/cd/0/inline/A-Zh8w3W9V509FRBs2Q6z_vIl5GAHk325hebibhDv3NCe7pjEvoG-xT_xgCzmCOenx8fE2dMHRArTYUpSihBcBOjI51uki4e2K5g35Epb2UQKxc7DmKiP140HbwpUBfvSBM/file# [following]\n",
      "--2020-08-29 17:23:16--  https://uca40c7c23141e02ee0b88baa137.dl.dropboxusercontent.com/cd/0/inline/A-Zh8w3W9V509FRBs2Q6z_vIl5GAHk325hebibhDv3NCe7pjEvoG-xT_xgCzmCOenx8fE2dMHRArTYUpSihBcBOjI51uki4e2K5g35Epb2UQKxc7DmKiP140HbwpUBfvSBM/file\n",
      "Resolving uca40c7c23141e02ee0b88baa137.dl.dropboxusercontent.com (uca40c7c23141e02ee0b88baa137.dl.dropboxusercontent.com)... 162.125.65.15, 2620:100:6021:15::a27d:410f\n",
      "Connecting to uca40c7c23141e02ee0b88baa137.dl.dropboxusercontent.com (uca40c7c23141e02ee0b88baa137.dl.dropboxusercontent.com)|162.125.65.15|:443... connected.\n",
      "HTTP request sent, awaiting response... 200 OK\n",
      "Length: 347116733 (331M) [text/plain]\n",
      "Saving to: ‘glove.6B.100d.txt’\n",
      "\n",
      "glove.6B.100d.txt   100%[===================>] 331.04M  22.1MB/s    in 15s     \n",
      "\n",
      "2020-08-29 17:23:32 (21.7 MB/s) - ‘glove.6B.100d.txt’ saved [347116733/347116733]\n",
      "\n"
     ]
    }
   ],
   "source": [
    "!wget https://www.dropbox.com/s/ddkmtqz01jc024u/glove.6B.100d.txt"
   ]
  },
  {
   "cell_type": "markdown",
   "metadata": {},
   "source": [
    "### <font color='blue'>**Loading data**</font>"
   ]
  },
  {
   "cell_type": "markdown",
   "metadata": {},
   "source": [
    "> if you observe the data file, each feild was seperated by a tab '\\t'"
   ]
  },
  {
   "cell_type": "code",
   "execution_count": null,
   "metadata": {},
   "outputs": [],
   "source": [
    "import matplotlib.pyplot as plt\n",
    "%matplotlib inline\n",
    "# import seaborn as sns\n",
    "import pandas as pd\n",
    "import re\n",
    "import tensorflow as tf\n",
    "from tensorflow.keras.layers import Embedding, LSTM, Dense\n",
    "from tensorflow.keras.models import Model\n",
    "from tensorflow.keras.preprocessing.text import Tokenizer\n",
    "from tensorflow.keras.preprocessing.sequence import pad_sequences\n",
    "import numpy as np"
   ]
  },
  {
   "cell_type": "code",
   "execution_count": null,
   "metadata": {},
   "outputs": [
    {
     "name": "stdout",
     "output_type": "stream",
     "text": [
      "(352894, 2)\n"
     ]
    },
    {
     "data": {
      "text/html": [
       "<div>\n",
       "<style scoped>\n",
       "    .dataframe tbody tr th:only-of-type {\n",
       "        vertical-align: middle;\n",
       "    }\n",
       "\n",
       "    .dataframe tbody tr th {\n",
       "        vertical-align: top;\n",
       "    }\n",
       "\n",
       "    .dataframe thead th {\n",
       "        text-align: right;\n",
       "    }\n",
       "</style>\n",
       "<table border=\"1\" class=\"dataframe\">\n",
       "  <thead>\n",
       "    <tr style=\"text-align: right;\">\n",
       "      <th></th>\n",
       "      <th>english</th>\n",
       "      <th>italian</th>\n",
       "    </tr>\n",
       "  </thead>\n",
       "  <tbody>\n",
       "    <tr>\n",
       "      <th>0</th>\n",
       "      <td>Hi.</td>\n",
       "      <td>Ciao!</td>\n",
       "    </tr>\n",
       "    <tr>\n",
       "      <th>1</th>\n",
       "      <td>Hi.</td>\n",
       "      <td>Ciao.</td>\n",
       "    </tr>\n",
       "    <tr>\n",
       "      <th>2</th>\n",
       "      <td>Run!</td>\n",
       "      <td>Corri!</td>\n",
       "    </tr>\n",
       "    <tr>\n",
       "      <th>3</th>\n",
       "      <td>Run!</td>\n",
       "      <td>Corra!</td>\n",
       "    </tr>\n",
       "    <tr>\n",
       "      <th>4</th>\n",
       "      <td>Run!</td>\n",
       "      <td>Correte!</td>\n",
       "    </tr>\n",
       "  </tbody>\n",
       "</table>\n",
       "</div>"
      ],
      "text/plain": [
       "  english   italian\n",
       "0     Hi.     Ciao!\n",
       "1     Hi.     Ciao.\n",
       "2    Run!    Corri!\n",
       "3    Run!    Corra!\n",
       "4    Run!  Correte!"
      ]
     },
     "metadata": {},
     "output_type": "display_data"
    }
   ],
   "source": [
    "with open('ita.txt', 'r', encoding=\"utf8\") as f:\n",
    "    eng=[]\n",
    "    ita=[]\n",
    "    for i in f.readlines():\n",
    "        eng.append(i.split(\"\\t\")[0])\n",
    "        ita.append(i.split(\"\\t\")[1])\n",
    "data = pd.DataFrame(data=list(zip(eng, ita)), columns=['english','italian'])\n",
    "print(data.shape)\n",
    "data.head()"
   ]
  },
  {
   "cell_type": "code",
   "execution_count": null,
   "metadata": {},
   "outputs": [],
   "source": [
    "data.drop_duplicates(inplace=True)"
   ]
  },
  {
   "cell_type": "code",
   "execution_count": null,
   "metadata": {},
   "outputs": [
    {
     "data": {
      "text/plain": [
       "(352894, 2)"
      ]
     },
     "metadata": {},
     "output_type": "display_data"
    }
   ],
   "source": [
    "data.shape\n"
   ]
  },
  {
   "cell_type": "code",
   "execution_count": null,
   "metadata": {},
   "outputs": [
    {
     "name": "stdout",
     "output_type": "stream",
     "text": [
      "(341554, 2)\n"
     ]
    },
    {
     "data": {
      "text/html": [
       "<div>\n",
       "<style scoped>\n",
       "    .dataframe tbody tr th:only-of-type {\n",
       "        vertical-align: middle;\n",
       "    }\n",
       "\n",
       "    .dataframe tbody tr th {\n",
       "        vertical-align: top;\n",
       "    }\n",
       "\n",
       "    .dataframe thead th {\n",
       "        text-align: right;\n",
       "    }\n",
       "</style>\n",
       "<table border=\"1\" class=\"dataframe\">\n",
       "  <thead>\n",
       "    <tr style=\"text-align: right;\">\n",
       "      <th></th>\n",
       "      <th>english</th>\n",
       "      <th>italian</th>\n",
       "    </tr>\n",
       "  </thead>\n",
       "  <tbody>\n",
       "    <tr>\n",
       "      <th>0</th>\n",
       "      <td>Hi.</td>\n",
       "      <td>Ciao!</td>\n",
       "    </tr>\n",
       "    <tr>\n",
       "      <th>1</th>\n",
       "      <td>Run!</td>\n",
       "      <td>Corri!</td>\n",
       "    </tr>\n",
       "    <tr>\n",
       "      <th>2</th>\n",
       "      <td>Run!</td>\n",
       "      <td>Corra!</td>\n",
       "    </tr>\n",
       "    <tr>\n",
       "      <th>3</th>\n",
       "      <td>Run!</td>\n",
       "      <td>Correte!</td>\n",
       "    </tr>\n",
       "    <tr>\n",
       "      <th>4</th>\n",
       "      <td>Who?</td>\n",
       "      <td>Chi?</td>\n",
       "    </tr>\n",
       "  </tbody>\n",
       "</table>\n",
       "</div>"
      ],
      "text/plain": [
       "  english   italian\n",
       "0     Hi.     Ciao!\n",
       "1    Run!    Corri!\n",
       "2    Run!    Corra!\n",
       "3    Run!  Correte!\n",
       "4    Who?      Chi?"
      ]
     },
     "metadata": {},
     "output_type": "display_data"
    }
   ],
   "source": [
    "with open('ita.txt', 'r', encoding=\"utf8\") as f:\n",
    "    eng=[]\n",
    "    ita=[]\n",
    "    for i in f.readlines():\n",
    "        eng.append(i.split(\"\\t\")[0])\n",
    "        ita.append(i.split(\"\\t\")[1])\n",
    "data = pd.DataFrame(data=list(zip(eng, ita)), columns=['english','italian'])\n",
    "print(data.shape)\n",
    "data.head()"
   ]
  },
  {
   "cell_type": "code",
   "execution_count": null,
   "metadata": {},
   "outputs": [
    {
     "data": {
      "text/html": [
       "<div>\n",
       "<style scoped>\n",
       "    .dataframe tbody tr th:only-of-type {\n",
       "        vertical-align: middle;\n",
       "    }\n",
       "\n",
       "    .dataframe tbody tr th {\n",
       "        vertical-align: top;\n",
       "    }\n",
       "\n",
       "    .dataframe thead th {\n",
       "        text-align: right;\n",
       "    }\n",
       "</style>\n",
       "<table border=\"1\" class=\"dataframe\">\n",
       "  <thead>\n",
       "    <tr style=\"text-align: right;\">\n",
       "      <th></th>\n",
       "      <th>english</th>\n",
       "      <th>italian</th>\n",
       "    </tr>\n",
       "  </thead>\n",
       "  <tbody>\n",
       "    <tr>\n",
       "      <th>0</th>\n",
       "      <td>hi</td>\n",
       "      <td>ciao</td>\n",
       "    </tr>\n",
       "    <tr>\n",
       "      <th>1</th>\n",
       "      <td>hi</td>\n",
       "      <td>ciao</td>\n",
       "    </tr>\n",
       "    <tr>\n",
       "      <th>2</th>\n",
       "      <td>run</td>\n",
       "      <td>corri</td>\n",
       "    </tr>\n",
       "    <tr>\n",
       "      <th>3</th>\n",
       "      <td>run</td>\n",
       "      <td>corra</td>\n",
       "    </tr>\n",
       "    <tr>\n",
       "      <th>4</th>\n",
       "      <td>run</td>\n",
       "      <td>correte</td>\n",
       "    </tr>\n",
       "  </tbody>\n",
       "</table>\n",
       "</div>"
      ],
      "text/plain": [
       "  english  italian\n",
       "0      hi     ciao\n",
       "1      hi     ciao\n",
       "2     run    corri\n",
       "3     run    corra\n",
       "4     run  correte"
      ]
     },
     "metadata": {},
     "output_type": "display_data"
    }
   ],
   "source": [
    "def decontractions(phrase):\n",
    "    \"\"\"decontracted takes text and convert contractions into natural form.\n",
    "     ref: https://stackoverflow.com/questions/19790188/expanding-english-language-contractions-in-python/47091490#47091490\"\"\"\n",
    "    # specific\n",
    "    phrase = re.sub(r\"won\\'t\", \"will not\", phrase)\n",
    "    phrase = re.sub(r\"can\\'t\", \"can not\", phrase)\n",
    "    phrase = re.sub(r\"won\\’t\", \"will not\", phrase)\n",
    "    phrase = re.sub(r\"can\\’t\", \"can not\", phrase)\n",
    "\n",
    "    # general\n",
    "    phrase = re.sub(r\"n\\'t\", \" not\", phrase)\n",
    "    phrase = re.sub(r\"\\'re\", \" are\", phrase)\n",
    "    phrase = re.sub(r\"\\'s\", \" is\", phrase)\n",
    "    phrase = re.sub(r\"\\'d\", \" would\", phrase)\n",
    "    phrase = re.sub(r\"\\'ll\", \" will\", phrase)\n",
    "    phrase = re.sub(r\"\\'t\", \" not\", phrase)\n",
    "    phrase = re.sub(r\"\\'ve\", \" have\", phrase)\n",
    "    phrase = re.sub(r\"\\'m\", \" am\", phrase)\n",
    "\n",
    "    return phrase\n",
    "\n",
    "def preprocess(text):\n",
    "    # convert all the text into lower letters\n",
    "    # use this function to remove the contractions: https://gist.github.com/anandborad/d410a49a493b56dace4f814ab5325bbd\n",
    "    # remove all the spacial characters: except space ' '\n",
    "    text = text.lower()\n",
    "    text = decontractions(text)\n",
    "    text = re.sub('[^A-Za-z0-9 ]+', '', text)\n",
    "    text = text.strip()\n",
    "    return text\n",
    "\n",
    "def preprocess_ita(text):\n",
    "    # convert all the text into lower letters\n",
    "    # remove the words betweent brakets ()\n",
    "    # remove these characters: {'$', ')', '?', '\"', '’', '.',  '°', '!', ';', '/', \"'\", '€', '%', ':', ',', '('}\n",
    "    # replace these spl characters with space: '\\u200b', '\\xa0', '-', '/'\n",
    "    # we have found these characters after observing the data points, feel free to explore more and see if you can do find more\n",
    "    # you are free to do more proprocessing\n",
    "    # note that the model will learn better with better preprocessed data \n",
    "    \n",
    "    text = text.lower()\n",
    "    text = decontractions(text)\n",
    "    text = re.sub('[$)\\?\"’.°!;\\'€%:,(/]', '', text)\n",
    "    text = re.sub('\\u200b', ' ', text)\n",
    "    text = re.sub('\\xa0', ' ', text)\n",
    "    text = re.sub('-', ' ', text)\n",
    "    text = text.strip()\n",
    "    return text\n",
    "\n",
    "\n",
    "data['english'] = data['english'].apply(preprocess)\n",
    "data['italian'] = data['italian'].apply(preprocess_ita)\n",
    "data.head()"
   ]
  },
  {
   "cell_type": "code",
   "execution_count": null,
   "metadata": {},
   "outputs": [],
   "source": [
    "ita_lengths = data['italian'].str.split().apply(len)\n",
    "eng_lengths = data['english'].str.split().apply(len)"
   ]
  },
  {
   "cell_type": "code",
   "execution_count": null,
   "metadata": {},
   "outputs": [
    {
     "name": "stdout",
     "output_type": "stream",
     "text": [
      "0 1.0\n",
      "10 3.0\n",
      "20 4.0\n",
      "30 4.0\n",
      "40 5.0\n",
      "50 5.0\n",
      "60 6.0\n",
      "70 6.0\n",
      "80 7.0\n",
      "90 8.0\n",
      "100 92.0\n",
      "90 8.0\n",
      "91 8.0\n",
      "92 8.0\n",
      "93 9.0\n",
      "94 9.0\n",
      "95 9.0\n",
      "96 9.0\n",
      "97 10.0\n",
      "98 11.0\n",
      "99 12.0\n",
      "100 92.0\n",
      "99.1 12.0\n",
      "99.2 12.0\n",
      "99.3 13.0\n",
      "99.4 13.0\n",
      "99.5 13.0\n",
      "99.6 14.0\n",
      "99.7 15.0\n",
      "99.8 16.0\n",
      "99.9 22.0\n",
      "100 92.0\n"
     ]
    }
   ],
   "source": [
    "for i in range(0,101,10):\n",
    "    print(i,np.percentile(ita_lengths, i))\n",
    "for i in range(90,101):\n",
    "    print(i,np.percentile(ita_lengths, i))\n",
    "for i in [99.1,99.2,99.3,99.4,99.5,99.6,99.7,99.8,99.9,100]:\n",
    "    print(i,np.percentile(ita_lengths, i))"
   ]
  },
  {
   "cell_type": "code",
   "execution_count": null,
   "metadata": {},
   "outputs": [
    {
     "name": "stdout",
     "output_type": "stream",
     "text": [
      "0 1.0\n",
      "10 4.0\n",
      "20 4.0\n",
      "30 5.0\n",
      "40 5.0\n",
      "50 6.0\n",
      "60 6.0\n",
      "70 7.0\n",
      "80 7.0\n",
      "90 8.0\n",
      "100 101.0\n",
      "90 8.0\n",
      "91 9.0\n",
      "92 9.0\n",
      "93 9.0\n",
      "94 9.0\n",
      "95 9.0\n",
      "96 10.0\n",
      "97 10.0\n",
      "98 11.0\n",
      "99 12.0\n",
      "100 101.0\n",
      "99.1 12.0\n",
      "99.2 13.0\n",
      "99.3 13.0\n",
      "99.4 13.0\n",
      "99.5 14.0\n",
      "99.6 14.0\n",
      "99.7 15.0\n",
      "99.8 16.0\n",
      "99.9 25.0\n",
      "100 101.0\n"
     ]
    }
   ],
   "source": [
    "for i in range(0,101,10):\n",
    "    print(i,np.percentile(eng_lengths, i))\n",
    "for i in range(90,101):\n",
    "    print(i,np.percentile(eng_lengths, i))\n",
    "for i in [99.1,99.2,99.3,99.4,99.5,99.6,99.7,99.8,99.9,100]:\n",
    "    print(i,np.percentile(eng_lengths, i))"
   ]
  },
  {
   "cell_type": "markdown",
   "metadata": {},
   "source": [
    "> <font color=\"blue\"><b>If you observe the values, 99.9% of the data points are having length &lt; 20, so select the sentences that have words &lt; 20 </b> </font>\n",
    "<br>\n",
    "<br>\n",
    "> <font color=\"green\"><b>Inorder to do the teacher forcing while training of seq-seq models, lets create two new columns, one with  &lt;start&gt; token at begining of the sentence and other column with &lt;end&gt; token at the end of the sequence</b></font>"
   ]
  },
  {
   "cell_type": "code",
   "execution_count": null,
   "metadata": {},
   "outputs": [
    {
     "data": {
      "text/html": [
       "<div>\n",
       "<style scoped>\n",
       "    .dataframe tbody tr th:only-of-type {\n",
       "        vertical-align: middle;\n",
       "    }\n",
       "\n",
       "    .dataframe tbody tr th {\n",
       "        vertical-align: top;\n",
       "    }\n",
       "\n",
       "    .dataframe thead th {\n",
       "        text-align: right;\n",
       "    }\n",
       "</style>\n",
       "<table border=\"1\" class=\"dataframe\">\n",
       "  <thead>\n",
       "    <tr style=\"text-align: right;\">\n",
       "      <th></th>\n",
       "      <th>italian</th>\n",
       "      <th>english_inp</th>\n",
       "      <th>english_out</th>\n",
       "    </tr>\n",
       "  </thead>\n",
       "  <tbody>\n",
       "    <tr>\n",
       "      <th>0</th>\n",
       "      <td>ciao</td>\n",
       "      <td>&lt;start&gt; hi</td>\n",
       "      <td>hi &lt;end&gt;</td>\n",
       "    </tr>\n",
       "    <tr>\n",
       "      <th>1</th>\n",
       "      <td>ciao</td>\n",
       "      <td>&lt;start&gt; hi</td>\n",
       "      <td>hi &lt;end&gt;</td>\n",
       "    </tr>\n",
       "    <tr>\n",
       "      <th>2</th>\n",
       "      <td>corri</td>\n",
       "      <td>&lt;start&gt; run</td>\n",
       "      <td>run &lt;end&gt;</td>\n",
       "    </tr>\n",
       "    <tr>\n",
       "      <th>3</th>\n",
       "      <td>corra</td>\n",
       "      <td>&lt;start&gt; run</td>\n",
       "      <td>run &lt;end&gt;</td>\n",
       "    </tr>\n",
       "    <tr>\n",
       "      <th>4</th>\n",
       "      <td>correte</td>\n",
       "      <td>&lt;start&gt; run</td>\n",
       "      <td>run &lt;end&gt;</td>\n",
       "    </tr>\n",
       "  </tbody>\n",
       "</table>\n",
       "</div>"
      ],
      "text/plain": [
       "   italian  english_inp english_out\n",
       "0     ciao   <start> hi    hi <end>\n",
       "1     ciao   <start> hi    hi <end>\n",
       "2    corri  <start> run   run <end>\n",
       "3    corra  <start> run   run <end>\n",
       "4  correte  <start> run   run <end>"
      ]
     },
     "metadata": {},
     "output_type": "display_data"
    }
   ],
   "source": [
    "data['italian_len'] = data['italian'].str.split().apply(len)\n",
    "data = data[data['italian_len'] < 20]\n",
    "\n",
    "data['english_len'] = data['english'].str.split().apply(len)\n",
    "data = data[data['english_len'] < 20]\n",
    "\n",
    "data['english_inp'] = '<start> ' + data['english'].astype(str)\n",
    "data['english_out'] = data['english'].astype(str) + ' <end>'\n",
    "\n",
    "data = data.drop(['english','italian_len','english_len'], axis=1)\n",
    "# only for the first sentance add a toke <end> so that we will have <end> in tokenizer\n",
    "data.head()"
   ]
  },
  {
   "cell_type": "code",
   "execution_count": null,
   "metadata": {},
   "outputs": [
    {
     "data": {
      "text/html": [
       "<div>\n",
       "<style scoped>\n",
       "    .dataframe tbody tr th:only-of-type {\n",
       "        vertical-align: middle;\n",
       "    }\n",
       "\n",
       "    .dataframe tbody tr th {\n",
       "        vertical-align: top;\n",
       "    }\n",
       "\n",
       "    .dataframe thead th {\n",
       "        text-align: right;\n",
       "    }\n",
       "</style>\n",
       "<table border=\"1\" class=\"dataframe\">\n",
       "  <thead>\n",
       "    <tr style=\"text-align: right;\">\n",
       "      <th></th>\n",
       "      <th>italian</th>\n",
       "      <th>english_inp</th>\n",
       "      <th>english_out</th>\n",
       "    </tr>\n",
       "  </thead>\n",
       "  <tbody>\n",
       "    <tr>\n",
       "      <th>30968</th>\n",
       "      <td>tom viveva da solo</td>\n",
       "      <td>&lt;start&gt; tom lived alone</td>\n",
       "      <td>tom lived alone &lt;end&gt;</td>\n",
       "    </tr>\n",
       "    <tr>\n",
       "      <th>180934</th>\n",
       "      <td>voi siete mai stati sposati</td>\n",
       "      <td>&lt;start&gt; have you ever been married</td>\n",
       "      <td>have you ever been married &lt;end&gt;</td>\n",
       "    </tr>\n",
       "    <tr>\n",
       "      <th>106525</th>\n",
       "      <td>io sono il nuovo partner di tom</td>\n",
       "      <td>&lt;start&gt; i am tom is new partner</td>\n",
       "      <td>i am tom is new partner &lt;end&gt;</td>\n",
       "    </tr>\n",
       "    <tr>\n",
       "      <th>295740</th>\n",
       "      <td>ho fatto diversi errori allesame</td>\n",
       "      <td>&lt;start&gt; i made several mistakes in the exam</td>\n",
       "      <td>i made several mistakes in the exam &lt;end&gt;</td>\n",
       "    </tr>\n",
       "    <tr>\n",
       "      <th>345465</th>\n",
       "      <td>noi avevamo degli aerei però abbiamo dovuto ve...</td>\n",
       "      <td>&lt;start&gt; we used to have airplanes but we had t...</td>\n",
       "      <td>we used to have airplanes but we had to sell t...</td>\n",
       "    </tr>\n",
       "    <tr>\n",
       "      <th>58454</th>\n",
       "      <td>non vada lì ora</td>\n",
       "      <td>&lt;start&gt; do not go there now</td>\n",
       "      <td>do not go there now &lt;end&gt;</td>\n",
       "    </tr>\n",
       "    <tr>\n",
       "      <th>20731</th>\n",
       "      <td>è eccellente</td>\n",
       "      <td>&lt;start&gt; it is excellent</td>\n",
       "      <td>it is excellent &lt;end&gt;</td>\n",
       "    </tr>\n",
       "    <tr>\n",
       "      <th>215006</th>\n",
       "      <td>ho un problema con la mia macchina</td>\n",
       "      <td>&lt;start&gt; i have a problem with my car</td>\n",
       "      <td>i have a problem with my car &lt;end&gt;</td>\n",
       "    </tr>\n",
       "    <tr>\n",
       "      <th>324452</th>\n",
       "      <td>la mia camera è tre volte più grande della sua</td>\n",
       "      <td>&lt;start&gt; my room is three times as large as yours</td>\n",
       "      <td>my room is three times as large as yours &lt;end&gt;</td>\n",
       "    </tr>\n",
       "    <tr>\n",
       "      <th>96085</th>\n",
       "      <td>tom vive allestero</td>\n",
       "      <td>&lt;start&gt; tom is living abroad</td>\n",
       "      <td>tom is living abroad &lt;end&gt;</td>\n",
       "    </tr>\n",
       "  </tbody>\n",
       "</table>\n",
       "</div>"
      ],
      "text/plain": [
       "                                                  italian  \\\n",
       "30968                                  tom viveva da solo   \n",
       "180934                        voi siete mai stati sposati   \n",
       "106525                    io sono il nuovo partner di tom   \n",
       "295740                   ho fatto diversi errori allesame   \n",
       "345465  noi avevamo degli aerei però abbiamo dovuto ve...   \n",
       "58454                                     non vada lì ora   \n",
       "20731                                        è eccellente   \n",
       "215006                 ho un problema con la mia macchina   \n",
       "324452     la mia camera è tre volte più grande della sua   \n",
       "96085                                  tom vive allestero   \n",
       "\n",
       "                                              english_inp  \\\n",
       "30968                             <start> tom lived alone   \n",
       "180934                 <start> have you ever been married   \n",
       "106525                    <start> i am tom is new partner   \n",
       "295740        <start> i made several mistakes in the exam   \n",
       "345465  <start> we used to have airplanes but we had t...   \n",
       "58454                         <start> do not go there now   \n",
       "20731                             <start> it is excellent   \n",
       "215006               <start> i have a problem with my car   \n",
       "324452   <start> my room is three times as large as yours   \n",
       "96085                        <start> tom is living abroad   \n",
       "\n",
       "                                              english_out  \n",
       "30968                               tom lived alone <end>  \n",
       "180934                   have you ever been married <end>  \n",
       "106525                      i am tom is new partner <end>  \n",
       "295740          i made several mistakes in the exam <end>  \n",
       "345465  we used to have airplanes but we had to sell t...  \n",
       "58454                           do not go there now <end>  \n",
       "20731                               it is excellent <end>  \n",
       "215006                 i have a problem with my car <end>  \n",
       "324452     my room is three times as large as yours <end>  \n",
       "96085                          tom is living abroad <end>  "
      ]
     },
     "metadata": {},
     "output_type": "display_data"
    }
   ],
   "source": [
    "data.sample(10)"
   ]
  },
  {
   "cell_type": "markdown",
   "metadata": {},
   "source": [
    "### Teacher Forcing\n",
    "<pre>\n",
    "Let us consider the example data point\n",
    "\n",
    "italian: erano occupate\t\n",
    "english_inp: &lt;start> they were busy\t\n",
    "                |     |     |    |\n",
    "english_out:  they   were busy &lt;end>\n",
    "\n",
    "if you observe the sentences, the start token is getting mapped to the first word in your english sentence, the first word is mapped to 2nd word, the 2nd word mapped to 3rd word and so on, finall the last one will is mapped to end token. i.e i the word will be mapped to i+1th word.\n",
    "\n",
    "As we will be passing \"english_inp\" as an input to the decoder and the outputs(predictions) of the decoder will be compared against the \"english_out\" \n",
    "\n",
    "with this way of mapping, we can ensure that the model will predict the next word and calculate the loss accordingly.\n",
    "\n",
    "</pre>"
   ]
  },
  {
   "cell_type": "markdown",
   "metadata": {},
   "source": [
    "### Getting train and test "
   ]
  },
  {
   "cell_type": "code",
   "execution_count": null,
   "metadata": {},
   "outputs": [
    {
     "name": "stdout",
     "output_type": "stream",
     "text": [
      "(281922, 3) (70481, 3)\n"
     ]
    }
   ],
   "source": [
    "from sklearn.model_selection import train_test_split\n",
    "train, validation = train_test_split(data, test_size=0.2)\n",
    "print(train.shape, validation.shape)"
   ]
  },
  {
   "cell_type": "code",
   "execution_count": null,
   "metadata": {},
   "outputs": [
    {
     "name": "stdout",
     "output_type": "stream",
     "text": [
      "(281922, 3) (70481, 3)\n"
     ]
    }
   ],
   "source": [
    "print(train.shape, validation.shape)\n",
    "# for one sentence we will be adding <end> token so that the tokanizer learns the word <end>\n",
    "# with this we can use only one tokenizer for both encoder output and decoder output\n",
    "train.iloc[0]['english_inp']= str(train.iloc[0]['english_inp'])+' <end>'\n",
    "train.iloc[0]['english_out']= str(train.iloc[0]['english_out'])+' <end>'"
   ]
  },
  {
   "cell_type": "code",
   "execution_count": null,
   "metadata": {},
   "outputs": [
    {
     "data": {
      "text/html": [
       "<div>\n",
       "<style scoped>\n",
       "    .dataframe tbody tr th:only-of-type {\n",
       "        vertical-align: middle;\n",
       "    }\n",
       "\n",
       "    .dataframe tbody tr th {\n",
       "        vertical-align: top;\n",
       "    }\n",
       "\n",
       "    .dataframe thead th {\n",
       "        text-align: right;\n",
       "    }\n",
       "</style>\n",
       "<table border=\"1\" class=\"dataframe\">\n",
       "  <thead>\n",
       "    <tr style=\"text-align: right;\">\n",
       "      <th></th>\n",
       "      <th>italian</th>\n",
       "      <th>english_inp</th>\n",
       "      <th>english_out</th>\n",
       "    </tr>\n",
       "  </thead>\n",
       "  <tbody>\n",
       "    <tr>\n",
       "      <th>1259</th>\n",
       "      <td>scusami</td>\n",
       "      <td>&lt;start&gt; excuse me &lt;end&gt;</td>\n",
       "      <td>excuse me &lt;end&gt; &lt;end&gt;</td>\n",
       "    </tr>\n",
       "    <tr>\n",
       "      <th>183812</th>\n",
       "      <td>ho incontrato tom solo tre volte</td>\n",
       "      <td>&lt;start&gt; i only met tom three times</td>\n",
       "      <td>i only met tom three times &lt;end&gt;</td>\n",
       "    </tr>\n",
       "    <tr>\n",
       "      <th>43560</th>\n",
       "      <td>dovè la sua chiave</td>\n",
       "      <td>&lt;start&gt; where is your key</td>\n",
       "      <td>where is your key &lt;end&gt;</td>\n",
       "    </tr>\n",
       "    <tr>\n",
       "      <th>168566</th>\n",
       "      <td>parlo inglese tutti i giorni</td>\n",
       "      <td>&lt;start&gt; i speak english every day</td>\n",
       "      <td>i speak english every day &lt;end&gt;</td>\n",
       "    </tr>\n",
       "    <tr>\n",
       "      <th>29067</th>\n",
       "      <td>mi fa male il collo</td>\n",
       "      <td>&lt;start&gt; my neck is sore</td>\n",
       "      <td>my neck is sore &lt;end&gt;</td>\n",
       "    </tr>\n",
       "  </tbody>\n",
       "</table>\n",
       "</div>"
      ],
      "text/plain": [
       "                                 italian                         english_inp  \\\n",
       "1259                             scusami             <start> excuse me <end>   \n",
       "183812  ho incontrato tom solo tre volte  <start> i only met tom three times   \n",
       "43560                 dovè la sua chiave           <start> where is your key   \n",
       "168566      parlo inglese tutti i giorni   <start> i speak english every day   \n",
       "29067                mi fa male il collo             <start> my neck is sore   \n",
       "\n",
       "                             english_out  \n",
       "1259               excuse me <end> <end>  \n",
       "183812  i only met tom three times <end>  \n",
       "43560            where is your key <end>  \n",
       "168566   i speak english every day <end>  \n",
       "29067              my neck is sore <end>  "
      ]
     },
     "metadata": {},
     "output_type": "display_data"
    }
   ],
   "source": [
    "train.head()"
   ]
  },
  {
   "cell_type": "code",
   "execution_count": null,
   "metadata": {},
   "outputs": [
    {
     "data": {
      "text/html": [
       "<div>\n",
       "<style scoped>\n",
       "    .dataframe tbody tr th:only-of-type {\n",
       "        vertical-align: middle;\n",
       "    }\n",
       "\n",
       "    .dataframe tbody tr th {\n",
       "        vertical-align: top;\n",
       "    }\n",
       "\n",
       "    .dataframe thead th {\n",
       "        text-align: right;\n",
       "    }\n",
       "</style>\n",
       "<table border=\"1\" class=\"dataframe\">\n",
       "  <thead>\n",
       "    <tr style=\"text-align: right;\">\n",
       "      <th></th>\n",
       "      <th>italian</th>\n",
       "      <th>english_inp</th>\n",
       "      <th>english_out</th>\n",
       "    </tr>\n",
       "  </thead>\n",
       "  <tbody>\n",
       "    <tr>\n",
       "      <th>28746</th>\n",
       "      <td>sono le otto passate</td>\n",
       "      <td>&lt;start&gt; it is past eight</td>\n",
       "      <td>it is past eight &lt;end&gt;</td>\n",
       "    </tr>\n",
       "    <tr>\n",
       "      <th>246954</th>\n",
       "      <td>lei sarà in ritardo per la riunione</td>\n",
       "      <td>&lt;start&gt; she will be late for the meeting</td>\n",
       "      <td>she will be late for the meeting &lt;end&gt;</td>\n",
       "    </tr>\n",
       "    <tr>\n",
       "      <th>175490</th>\n",
       "      <td>tom dovrebbe lasciarmelo fare</td>\n",
       "      <td>&lt;start&gt; tom should let me do that</td>\n",
       "      <td>tom should let me do that &lt;end&gt;</td>\n",
       "    </tr>\n",
       "    <tr>\n",
       "      <th>252681</th>\n",
       "      <td>lei aveva ragione e io avevo torto</td>\n",
       "      <td>&lt;start&gt; you were right and i was wrong</td>\n",
       "      <td>you were right and i was wrong &lt;end&gt;</td>\n",
       "    </tr>\n",
       "    <tr>\n",
       "      <th>126342</th>\n",
       "      <td>tom ha avuto un attacco di cuore</td>\n",
       "      <td>&lt;start&gt; tom had a heart attack</td>\n",
       "      <td>tom had a heart attack &lt;end&gt;</td>\n",
       "    </tr>\n",
       "  </tbody>\n",
       "</table>\n",
       "</div>"
      ],
      "text/plain": [
       "                                    italian  \\\n",
       "28746                  sono le otto passate   \n",
       "246954  lei sarà in ritardo per la riunione   \n",
       "175490        tom dovrebbe lasciarmelo fare   \n",
       "252681   lei aveva ragione e io avevo torto   \n",
       "126342     tom ha avuto un attacco di cuore   \n",
       "\n",
       "                                     english_inp  \\\n",
       "28746                   <start> it is past eight   \n",
       "246954  <start> she will be late for the meeting   \n",
       "175490         <start> tom should let me do that   \n",
       "252681    <start> you were right and i was wrong   \n",
       "126342            <start> tom had a heart attack   \n",
       "\n",
       "                                   english_out  \n",
       "28746                   it is past eight <end>  \n",
       "246954  she will be late for the meeting <end>  \n",
       "175490         tom should let me do that <end>  \n",
       "252681    you were right and i was wrong <end>  \n",
       "126342            tom had a heart attack <end>  "
      ]
     },
     "metadata": {},
     "output_type": "display_data"
    }
   ],
   "source": [
    "validation.head()"
   ]
  },
  {
   "cell_type": "code",
   "execution_count": null,
   "metadata": {},
   "outputs": [
    {
     "data": {
      "image/png": "[encoded data removed]",
      "text/plain": [
       "<Figure size 432x288 with 1 Axes>"
      ]
     },
     "metadata": {},
     "output_type": "display_data"
    },
    {
     "data": {
      "image/png": "[encoded data removed]",
      "text/plain": [
       "<Figure size 432x288 with 1 Axes>"
      ]
     },
     "metadata": {},
     "output_type": "display_data"
    }
   ],
   "source": [
    "ita_lengths = train['italian'].str.split().apply(len)\n",
    "eng_lengths = train['english_inp'].str.split().apply(len)\n",
    "import seaborn as sns\n",
    "sns.kdeplot(ita_lengths)\n",
    "plt.show()\n",
    "sns.kdeplot(eng_lengths)\n",
    "plt.show()"
   ]
  },
  {
   "cell_type": "markdown",
   "metadata": {},
   "source": [
    "### Creating Tokenizer on the train data and learning vocabulary"
   ]
  },
  {
   "cell_type": "code",
   "execution_count": null,
   "metadata": {},
   "outputs": [],
   "source": [
    "tknizer_ita = Tokenizer(filters='',oov_token='<UNK>')\n",
    "tknizer_ita.fit_on_texts(train['italian'].values)\n",
    "tknizer_eng = Tokenizer(filters='',oov_token='<UNK>')\n",
    "tknizer_eng.fit_on_texts(train['english_inp'].values)"
   ]
  },
  {
   "cell_type": "code",
   "execution_count": null,
   "metadata": {},
   "outputs": [
    {
     "name": "stdout",
     "output_type": "stream",
     "text": [
      "13046\n",
      "26605\n"
     ]
    }
   ],
   "source": [
    "vocab_size_eng=len(tknizer_eng.word_index.keys())\n",
    "print(vocab_size_eng)\n",
    "vocab_size_ita=len(tknizer_ita.word_index.keys())\n",
    "print(vocab_size_ita)"
   ]
  },
  {
   "cell_type": "code",
   "execution_count": null,
   "metadata": {},
   "outputs": [
    {
     "data": {
      "text/plain": [
       "(2, 10338)"
      ]
     },
     "metadata": {},
     "output_type": "display_data"
    }
   ],
   "source": [
    "tknizer_eng.word_index['<start>'], tknizer_eng.word_index['<end>']"
   ]
  },
  {
   "cell_type": "markdown",
   "metadata": {},
   "source": [
    "### Creating embeddings for english sentences"
   ]
  },
  {
   "cell_type": "code",
   "execution_count": null,
   "metadata": {},
   "outputs": [],
   "source": [
    "embeddings_index = dict()\n",
    "f = open('glove.6B.100d.txt',encoding='utf-8')\n",
    "for line in f:\n",
    "    values = line.split()\n",
    "    word = values[0]\n",
    "    coefs = np.asarray(values[1:], dtype='float32')\n",
    "    embeddings_index[word] = coefs\n",
    "f.close()\n",
    "\n",
    "embedding_matrix = np.zeros((vocab_size_eng+1, 100))\n",
    "for word, i in tknizer_eng.word_index.items():\n",
    "    embedding_vector = embeddings_index.get(word)\n",
    "    if embedding_vector is not None:\n",
    "        embedding_matrix[i] = embedding_vector"
   ]
  },
  {
   "cell_type": "markdown",
   "metadata": {},
   "source": [
    "### Creating data pipeline"
   ]
  },
  {
   "cell_type": "code",
   "execution_count": null,
   "metadata": {},
   "outputs": [],
   "source": [
    "class Dataset:\n",
    "    def __init__(self, data, tknizer_ita, tknizer_eng, max_len):\n",
    "        self.encoder_inps = data['italian'].values\n",
    "        self.decoder_inps = data['english_inp'].values\n",
    "        self.decoder_outs = data['english_out'].values\n",
    "        self.tknizer_eng = tknizer_eng\n",
    "        self.tknizer_ita = tknizer_ita\n",
    "        self.max_len = max_len\n",
    "\n",
    "    def __getitem__(self, i):\n",
    "        self.encoder_seq = self.tknizer_ita.texts_to_sequences([self.encoder_inps[i]]) # need to pass list of values\n",
    "        self.decoder_inp_seq = self.tknizer_eng.texts_to_sequences([self.decoder_inps[i]])\n",
    "        self.decoder_out_seq = self.tknizer_eng.texts_to_sequences([self.decoder_outs[i]])\n",
    "\n",
    "        self.encoder_seq = pad_sequences(self.encoder_seq, maxlen=self.max_len, dtype='int32', padding='post')\n",
    "        self.decoder_inp_seq = pad_sequences(self.decoder_inp_seq, maxlen=self.max_len, dtype='int32', padding='post')\n",
    "        self.decoder_out_seq = pad_sequences(self.decoder_out_seq, maxlen=self.max_len, dtype='int32', padding='post')\n",
    "        return self.encoder_seq, self.decoder_inp_seq, self.decoder_out_seq\n",
    "\n",
    "    def __len__(self): # your model.fit_gen requires this function\n",
    "        return len(self.encoder_inps)\n",
    "\n",
    "    \n",
    "class Dataloder(tf.keras.utils.Sequence):    \n",
    "    def __init__(self, dataset, batch_size=1):\n",
    "        self.dataset = dataset\n",
    "        self.batch_size = batch_size\n",
    "        self.indexes = np.arange(len(self.dataset.encoder_inps))\n",
    "\n",
    "\n",
    "    def __getitem__(self, i):\n",
    "        start = i * self.batch_size\n",
    "        stop = (i + 1) * self.batch_size\n",
    "        data = []\n",
    "        for j in range(start, stop):\n",
    "            data.append(self.dataset[j])\n",
    "\n",
    "        batch = [np.squeeze(np.stack(samples, axis=1), axis=0) for samples in zip(*data)]\n",
    "        # we are creating data like ([italian, english_inp], english_out) these are already converted into seq\n",
    "        return tuple([[batch[0],batch[1]],batch[2]])\n",
    "\n",
    "    def __len__(self):  #model.fit_gen requires this function\n",
    "        return len(self.indexes) // self.batch_size\n",
    "\n",
    "    def on_epoch_end(self):\n",
    "        self.indexes = np.random.permutation(self.indexes)"
   ]
  },
  {
   "cell_type": "code",
   "execution_count": null,
   "metadata": {},
   "outputs": [
    {
     "name": "stdout",
     "output_type": "stream",
     "text": [
      "(512, 20) (512, 20) (512, 20)\n"
     ]
    }
   ],
   "source": [
    "train_dataset = Dataset(train, tknizer_ita, tknizer_eng, 20)\n",
    "test_dataset  = Dataset(validation, tknizer_ita, tknizer_eng, 20)\n",
    "\n",
    "train_dataloader = Dataloder(train_dataset, batch_size=512)\n",
    "test_dataloader = Dataloder(test_dataset, batch_size=512)\n",
    "\n",
    "print(train_dataloader[0][0][0].shape, train_dataloader[0][0][1].shape, train_dataloader[0][1].shape)"
   ]
  },
  {
   "cell_type": "markdown",
   "metadata": {},
   "source": [
    "## Task-1 Implementing a custom encoder decoder"
   ]
  },
  {
   "cell_type": "markdown",
   "metadata": {},
   "source": [
    "#### <b><font color='red'>Encoder</font></b>"
   ]
  },
  {
   "cell_type": "code",
   "execution_count": null,
   "metadata": {},
   "outputs": [],
   "source": [
    "class Encoder(tf.keras.Model):\n",
    "  '''\n",
    "    Encoder model -- That takes a input sequence and returns encoder-outputs,encoder_final_state_h,encoder_final_state_c\n",
    "  '''\n",
    "\n",
    "  def __init__(self,inp_vocab_size,embedding_size,lstm_size,input_length):\n",
    "    super().__init__()\n",
    "    #Initialize Embedding layer\n",
    "    #Intialize Encoder LSTM layer\n",
    "    self.inp_vocab_size=inp_vocab_size\n",
    "    self.embedding_size=embedding_size\n",
    "    self.lstm_size=lstm_size\n",
    "    self.input_length=input_length\n",
    "    self.lstm_output = 0\n",
    "    self.lstm_state_h = 0\n",
    "    self.lstm_state_c = 0\n",
    "    self.embedding = Embedding(input_dim=self.inp_vocab_size+1, output_dim=self.embedding_size, input_length=self.input_length,\\\n",
    "                           mask_zero=True, name=\"embedding_layer_encoder\")\n",
    "    self.lstm = LSTM(self.lstm_size, return_state=True, return_sequences=True, name=\"Encoder_LSTM\")\n",
    "\n",
    "  def call(self,input_sequence,states,training=True):\n",
    "    '''\n",
    "    This function takes a sequence input and the initial states of the encoder.\n",
    "    Pass the input_sequence input to the Embedding layer, Pass the embedding layer ouput to encoder_lstm\n",
    "    returns -- encoder_output, last time step's hidden and cell state\n",
    "    '''\n",
    "    input_embedd = self.embedding(input_sequence)\n",
    "    self.lstm_output, self.lstm_state_h,self.lstm_state_c = self.lstm(input_embedd, initial_state=states)\n",
    "    \n",
    "    return self.lstm_output, self.lstm_state_h,self.lstm_state_c\n",
    "    \n",
    "  def initialize_states(self,batch_size):\n",
    "      '''\n",
    "      Given a batch size it will return intial hidden state and intial cell state.\n",
    "      If batch size is 32- Hidden state is zeros of size [32,lstm_units], cell state zeros is of size [32,lstm_units]\n",
    "      '''\n",
    "      self.lstm_state_h = tf.zeros(shape=(batch_size,self.lstm_size))\n",
    "      self.lstm_state_c = tf.zeros(shape=(batch_size,self.lstm_size))\n",
    "      \n",
    "      return [self.lstm_state_h,self.lstm_state_c]\n",
    "      \n"
   ]
  },
  {
   "cell_type": "markdown",
   "metadata": {},
   "source": [
    "#### <b><font color='red'>Decoder</font></b>"
   ]
  },
  {
   "cell_type": "code",
   "execution_count": null,
   "metadata": {},
   "outputs": [],
   "source": [
    "class Decoder(tf.keras.Model):\n",
    "  '''\n",
    "    Decoder model -- That takes a input sequence, encoder states and returns output sequence,decoder_final_state_h,decoder_final_state_c\n",
    "  '''\n",
    "\n",
    "  def __init__(self,out_vocab_size,embedding_size,lstm_size,input_length,emb_matrix=None):\n",
    "    super().__init__()\n",
    "    #Initialize Embedding layer\n",
    "    #Intialize Decoder LSTM layer\n",
    "    self.out_vocab_size=out_vocab_size\n",
    "    self.embedding_size= embedding_size\n",
    "    self.lstm_size=lstm_size\n",
    "    self.input_length=input_length\n",
    "    \n",
    "    if type(emb_matrix)==np.ndarray:\n",
    "      self.emb_matrix= emb_matrix\n",
    "      self.embedding=Embedding(input_dim=self.out_vocab_size+1, output_dim=self.embedding_size, input_length=self.input_length,\\\n",
    "                           mask_zero=True, name=\"embedding_layer_decoder\",weights=[self.emb_matrix],trainable= False)\n",
    "    else:\n",
    "      self.embedding=Embedding(input_dim=self.out_vocab_size, output_dim=self.embedding_size, input_length=self.input_length,\\\n",
    "                           mask_zero=True, name=\"embedding_layer_decoder\")\n",
    "    \n",
    "    self.lstm= LSTM(self.lstm_size,return_sequences=True,return_state=True,name='Decoder_LSTM')\n",
    "        \n",
    "  def call(self,input_sequence,initial_states):\n",
    "    '''\n",
    "    This function takes a sequence input and the initial states of the encoder.\n",
    "    Pass the input_sequence input to the Embedding layer, Pass the embedding layer ouput to decoder_lstm\n",
    "  \n",
    "    returns -- decoder_output,decoder_final_state_h,decoder_final_state_c\n",
    "    '''\n",
    "      \n",
    "    input_embedd = self.embedding(input_sequence)\n",
    "    self.lstm_output, self.lstm_state_h,self.lstm_state_c = self.lstm(input_embedd, initial_state=initial_states)\n",
    "    \n",
    "    return self.lstm_output, self.lstm_state_h,self.lstm_state_c"
   ]
  },
  {
   "cell_type": "markdown",
   "metadata": {},
   "source": [
    "#### <b><font color='red'>Encoder-Decoder Combined</font></b>"
   ]
  },
  {
   "cell_type": "code",
   "execution_count": null,
   "metadata": {},
   "outputs": [],
   "source": [
    "class Encoder_decoder(tf.keras.Model):\n",
    "    \n",
    "    def __init__(self,enc_embedding_size,dec_embedding_size,encoder_input_length,\\\n",
    "                    decoder_input_length, output_vocab_size,batch_size,embed_matrix=None):\n",
    "        super().__init__()\n",
    "        self.batch_size=batch_size\n",
    "        #Create encoder object\n",
    "        #Create decoder object\n",
    "        #Intialize Dense layer(out_vocab_size) with activation='softmax'\n",
    "        self.encoder=Encoder(inp_vocab_size=vocab_size_ita,embedding_size=enc_embedding_size,lstm_size=64,input_length=encoder_input_length)\n",
    "        self.decoder=Decoder(out_vocab_size=vocab_size_eng,embedding_size=dec_embedding_size,lstm_size=64,input_length=decoder_input_length,emb_matrix=embed_matrix)\n",
    "        self.dense=Dense(units=output_vocab_size,activation='softmax')\n",
    "    \n",
    "    def call(self,data):\n",
    "        '''\n",
    "        A. Pass the input sequence to Encoder layer -- Return encoder_output,encoder_final_state_h,encoder_final_state_c\n",
    "        B. Pass the target sequence to Decoder layer with intial states as encoder_final_state_h,encoder_final_state_C\n",
    "        C. Pass the decoder_outputs into Dense layer \n",
    "        \n",
    "        Return decoder_outputs\n",
    "        '''\n",
    "        initial_states=self.encoder.initialize_states(self.batch_size)\n",
    "        input_data=data[0]\n",
    "        output_data=data[1]\n",
    "        encoder_output, encoder_final_state_h, encoderfinal_state_c = self.encoder(input_data, initial_states)\n",
    "        decoder_output, decoder_h, decoder_c  = self.decoder(output_data, [encoder_final_state_h, encoderfinal_state_c])\n",
    "        output_dense=self.dense(decoder_output)\n",
    "        \n",
    "        return output_dense\n",
    "        "
   ]
  },
  {
   "cell_type": "markdown",
   "metadata": {},
   "source": [
    "#### <b><font color='red'>Training the simple encoder decoder model</font></b>"
   ]
  },
  {
   "cell_type": "code",
   "execution_count": null,
   "metadata": {},
   "outputs": [
    {
     "name": "stdout",
     "output_type": "stream",
     "text": [
      "Epoch 1/25\n",
      "550/550 [==============================] - ETA: 0s - loss: 1.8852\n",
      "Epoch 00001: val_loss improved from inf to 1.64469, saving model to model_1_weights.h5\n",
      "550/550 [==============================] - 39s 63ms/step - loss: 1.8852 - val_loss: 1.6447\n",
      "Epoch 2/25\n",
      "550/550 [==============================] - ETA: 0s - loss: 1.5285\n",
      "Epoch 00002: val_loss improved from 1.64469 to 1.37994, saving model to model_1_weights.h5\n",
      "550/550 [==============================] - 32s 58ms/step - loss: 1.5285 - val_loss: 1.3799\n",
      "Epoch 3/25\n",
      "549/550 [============================>.] - ETA: 0s - loss: 1.2617\n",
      "Epoch 00003: val_loss improved from 1.37994 to 1.14684, saving model to model_1_weights.h5\n",
      "550/550 [==============================] - 32s 57ms/step - loss: 1.2615 - val_loss: 1.1468\n",
      "Epoch 4/25\n",
      "549/550 [============================>.] - ETA: 0s - loss: 1.0718\n",
      "Epoch 00004: val_loss improved from 1.14684 to 0.98744, saving model to model_1_weights.h5\n",
      "550/550 [==============================] - 32s 57ms/step - loss: 1.0717 - val_loss: 0.9874\n",
      "Epoch 5/25\n",
      "550/550 [==============================] - ETA: 0s - loss: 0.9346\n",
      "Epoch 00005: val_loss improved from 0.98744 to 0.86874, saving model to model_1_weights.h5\n",
      "550/550 [==============================] - 33s 59ms/step - loss: 0.9346 - val_loss: 0.8687\n",
      "Epoch 6/25\n",
      "549/550 [============================>.] - ETA: 0s - loss: 0.8291\n",
      "Epoch 00006: val_loss improved from 0.86874 to 0.77252, saving model to model_1_weights.h5\n",
      "550/550 [==============================] - 33s 59ms/step - loss: 0.8290 - val_loss: 0.7725\n",
      "Epoch 7/25\n",
      "549/550 [============================>.] - ETA: 0s - loss: 0.7437\n",
      "Epoch 00007: val_loss improved from 0.77252 to 0.69456, saving model to model_1_weights.h5\n",
      "550/550 [==============================] - 33s 59ms/step - loss: 0.7437 - val_loss: 0.6946\n",
      "Epoch 8/25\n",
      "549/550 [============================>.] - ETA: 0s - loss: 0.6726\n",
      "Epoch 00008: val_loss improved from 0.69456 to 0.62876, saving model to model_1_weights.h5\n",
      "550/550 [==============================] - 32s 58ms/step - loss: 0.6725 - val_loss: 0.6288\n",
      "Epoch 9/25\n",
      "549/550 [============================>.] - ETA: 0s - loss: 0.6117\n",
      "Epoch 00009: val_loss improved from 0.62876 to 0.57115, saving model to model_1_weights.h5\n",
      "550/550 [==============================] - 32s 58ms/step - loss: 0.6116 - val_loss: 0.5711\n",
      "Epoch 10/25\n",
      "550/550 [==============================] - ETA: 0s - loss: 0.5591\n",
      "Epoch 00010: val_loss improved from 0.57115 to 0.52292, saving model to model_1_weights.h5\n",
      "550/550 [==============================] - 32s 57ms/step - loss: 0.5591 - val_loss: 0.5229\n",
      "Epoch 11/25\n",
      "550/550 [==============================] - ETA: 0s - loss: 0.5135\n",
      "Epoch 00011: val_loss improved from 0.52292 to 0.47980, saving model to model_1_weights.h5\n",
      "550/550 [==============================] - 32s 58ms/step - loss: 0.5135 - val_loss: 0.4798\n",
      "Epoch 12/25\n",
      "550/550 [==============================] - ETA: 0s - loss: 0.4730\n",
      "Epoch 00012: val_loss improved from 0.47980 to 0.44218, saving model to model_1_weights.h5\n",
      "550/550 [==============================] - 32s 58ms/step - loss: 0.4730 - val_loss: 0.4422\n",
      "Epoch 13/25\n",
      "550/550 [==============================] - ETA: 0s - loss: 0.4373\n",
      "Epoch 00013: val_loss improved from 0.44218 to 0.40870, saving model to model_1_weights.h5\n",
      "550/550 [==============================] - 33s 59ms/step - loss: 0.4373 - val_loss: 0.4087\n",
      "Epoch 14/25\n",
      "549/550 [============================>.] - ETA: 0s - loss: 0.4056\n",
      "Epoch 00014: val_loss improved from 0.40870 to 0.37907, saving model to model_1_weights.h5\n",
      "550/550 [==============================] - 31s 57ms/step - loss: 0.4056 - val_loss: 0.3791\n",
      "Epoch 15/25\n",
      "550/550 [==============================] - ETA: 0s - loss: 0.3777\n",
      "Epoch 00015: val_loss improved from 0.37907 to 0.35236, saving model to model_1_weights.h5\n",
      "550/550 [==============================] - 31s 57ms/step - loss: 0.3777 - val_loss: 0.3524\n",
      "Epoch 16/25\n",
      "550/550 [==============================] - ETA: 0s - loss: 0.3532\n",
      "Epoch 00016: val_loss improved from 0.35236 to 0.33012, saving model to model_1_weights.h5\n",
      "550/550 [==============================] - 31s 57ms/step - loss: 0.3532 - val_loss: 0.3301\n",
      "Epoch 17/25\n",
      "549/550 [============================>.] - ETA: 0s - loss: 0.3318\n",
      "Epoch 00017: val_loss improved from 0.33012 to 0.31113, saving model to model_1_weights.h5\n",
      "550/550 [==============================] - 31s 57ms/step - loss: 0.3317 - val_loss: 0.3111\n",
      "Epoch 18/25\n",
      "550/550 [==============================] - ETA: 0s - loss: 0.3128\n",
      "Epoch 00018: val_loss improved from 0.31113 to 0.29238, saving model to model_1_weights.h5\n",
      "550/550 [==============================] - 32s 57ms/step - loss: 0.3128 - val_loss: 0.2924\n",
      "Epoch 19/25\n",
      "550/550 [==============================] - ETA: 0s - loss: 0.2957\n",
      "Epoch 00019: val_loss improved from 0.29238 to 0.27702, saving model to model_1_weights.h5\n",
      "550/550 [==============================] - 32s 58ms/step - loss: 0.2957 - val_loss: 0.2770\n",
      "Epoch 20/25\n",
      "550/550 [==============================] - ETA: 0s - loss: 0.2807\n",
      "Epoch 00020: val_loss improved from 0.27702 to 0.26221, saving model to model_1_weights.h5\n",
      "550/550 [==============================] - 31s 57ms/step - loss: 0.2807 - val_loss: 0.2622\n",
      "Epoch 21/25\n",
      "549/550 [============================>.] - ETA: 0s - loss: 0.2670\n",
      "Epoch 00021: val_loss improved from 0.26221 to 0.25053, saving model to model_1_weights.h5\n",
      "550/550 [==============================] - 31s 57ms/step - loss: 0.2670 - val_loss: 0.2505\n",
      "Epoch 22/25\n",
      "550/550 [==============================] - ETA: 0s - loss: 0.2547\n",
      "Epoch 00022: val_loss improved from 0.25053 to 0.23751, saving model to model_1_weights.h5\n",
      "550/550 [==============================] - 31s 57ms/step - loss: 0.2547 - val_loss: 0.2375\n",
      "Epoch 23/25\n",
      "549/550 [============================>.] - ETA: 0s - loss: 0.2434\n",
      "Epoch 00023: val_loss improved from 0.23751 to 0.22730, saving model to model_1_weights.h5\n",
      "550/550 [==============================] - 32s 58ms/step - loss: 0.2434 - val_loss: 0.2273\n",
      "Epoch 24/25\n",
      "550/550 [==============================] - ETA: 0s - loss: 0.2332\n",
      "Epoch 00024: val_loss improved from 0.22730 to 0.21699, saving model to model_1_weights.h5\n",
      "550/550 [==============================] - 32s 58ms/step - loss: 0.2332 - val_loss: 0.2170\n",
      "Epoch 25/25\n",
      "550/550 [==============================] - ETA: 0s - loss: 0.2239\n",
      "Epoch 00025: val_loss improved from 0.21699 to 0.20905, saving model to model_1_weights.h5\n",
      "550/550 [==============================] - 32s 58ms/step - loss: 0.2239 - val_loss: 0.2090\n",
      "Model: \"encoder_decoder_3\"\n",
      "_________________________________________________________________\n",
      " Layer (type)                Output Shape              Param #   \n",
      "=================================================================\n",
      " encoder_5 (Encoder)         multiple                  2705140   \n",
      "                                                                 \n",
      " decoder_5 (Decoder)         multiple                  1350340   \n",
      "                                                                 \n",
      " dense_3 (Dense)             multiple                  850265    \n",
      "                                                                 \n",
      "=================================================================\n",
      "Total params: 4,905,745\n",
      "Trainable params: 4,905,745\n",
      "Non-trainable params: 0\n",
      "_________________________________________________________________\n"
     ]
    }
   ],
   "source": [
    "#Create an object of encoder_decoder Model class, \n",
    "# Compile the model and fit the model\n",
    "from tensorflow.keras.callbacks import ModelCheckpoint,TensorBoard\n",
    "import os\n",
    "import datetime\n",
    "optimizer = tf.keras.optimizers.Adam()\n",
    "\n",
    "model_1=Encoder_decoder(enc_embedding_size=100,dec_embedding_size=100,encoder_input_length=20,\\\n",
    "                        decoder_input_length=20,output_vocab_size=vocab_size_eng,batch_size=512)\n",
    "\n",
    "model_1.compile(loss='sparse_categorical_crossentropy',optimizer=optimizer)\n",
    "\n",
    "train_steps=train.shape[0]//512\n",
    "valid_steps=validation.shape[0]//512\n",
    "\n",
    "log_dir = os.path.join(\"logs\",'fits', datetime.datetime.now().strftime(\"%Y%m%d-%H%M%S\"))\n",
    "tensorboard_callback = TensorBoard(log_dir=log_dir,histogram_freq=1,write_graph=True)\n",
    "checkpt = ModelCheckpoint(monitor=\"val_loss\",mode=\"auto\",filepath='model_1_weights.h5',verbose=1,save_best_only=True,save_weights_only=True)\n",
    "callback_list = [tensorboard_callback,checkpt]\n",
    "\n",
    "model_1.fit(train_dataloader, steps_per_epoch=train_steps, epochs=25, validation_data=train_dataloader,\\\n",
    "                validation_steps=valid_steps,callbacks=callback_list)\n",
    "\n",
    "model_1.summary()"
   ]
  },
  {
   "cell_type": "markdown",
   "metadata": {},
   "source": [
    "#### <b><font color='red'>Testing the model with the help of BLEU scores </font></b>"
   ]
  },
  {
   "cell_type": "code",
   "execution_count": null,
   "metadata": {},
   "outputs": [],
   "source": [
    "def predict(input_sentence,model):\n",
    "\n",
    "  '''\n",
    "  A. Given input sentence, convert the sentence into integers using tokenizer used earlier\n",
    "  B. Pass the input_sequence to encoder. we get encoder_outputs, last time step hidden and cell state\n",
    "  C. Initialize index of <start> as input to decoder. and encoder final states as input_states to decoder\n",
    "  D. till we reach max_length of decoder or till the model predicted word <end>:\n",
    "         predicted_out,state_h,state_c=model.layers[1](dec_input,states)\n",
    "         pass the predicted_out to the dense layer\n",
    "         update the states=[state_h,state_c]\n",
    "         And get the index of the word with maximum probability of the dense layer output, using the tokenizer(word index) get the word and then store it in a string.\n",
    "         Update the input_to_decoder with current predictions\n",
    "  F. Return the predicted sentence\n",
    "  '''\n",
    "\n",
    "  encoder_seq = tknizer_ita.texts_to_sequences([input_sentence])\n",
    "  encoder_seq = pad_sequences([encoder_seq[0]], maxlen=20, dtype='int32', padding='post')\n",
    "  encoder_seq = tf.convert_to_tensor(encoder_seq)\n",
    "  initial_state = model.layers[0].initialize_states(1)\n",
    "  enc_output, enc_state_h, enc_state_c = model.layers[0](encoder_seq, initial_state)\n",
    "  \n",
    "  decoder_input_states=[enc_state_h,enc_state_c]\n",
    "  decoder_seq=tknizer_eng.word_index['<start>']\n",
    "  decoder_seq=tf.expand_dims([decoder_seq], 0)\n",
    "  \n",
    "  pred_words_indices=[]\n",
    "  \n",
    "  for i in range(20):\n",
    "         \n",
    "         dec_output, dec_state_h, dec_state_c =model.layers[1](decoder_seq,decoder_input_states)\n",
    "         \n",
    "         dense_output=model.layers[2](dec_output)\n",
    "         decoder_input_states=[dec_state_h,dec_state_c]\n",
    "         \n",
    "         pred_index=np.argmax(dense_output)\n",
    "         decoder_seq = np.reshape(pred_index, (1, 1))\n",
    "         stop_index=tknizer_eng.word_index['<end>']\n",
    "         \n",
    "         if pred_index == stop_index:\n",
    "                break\n",
    "         if pred_index!=0:\n",
    "              pred_words_indices.append(pred_index)\n",
    "   \n",
    "  return pred_words_indices"
   ]
  },
  {
   "cell_type": "code",
   "execution_count": null,
   "metadata": {},
   "outputs": [
    {
     "name": "stderr",
     "output_type": "stream",
     "text": [
      " 40%|████      | 2/5 [00:00<00:00, 15.04it/s]"
     ]
    },
    {
     "name": "stdout",
     "output_type": "stream",
     "text": [
      "italian sentence -->  vedi qualcosa di interessante\n",
      "true english translation -->  do you see something interesting <end>\n",
      "predicted english translation -->  do you see what you deserve a lot \n",
      "0.375\n",
      "####################\n",
      "italian sentence -->  io so molto sugli animali\n",
      "true english translation -->  i know a lot about animals <end>\n",
      "predicted english translation -->  i know about a lot of animals \n",
      "0.8571428571428571\n",
      "####################\n",
      "italian sentence -->  spero che tom non lo farà\n",
      "true english translation -->  i hope tom will not do that <end>\n",
      "predicted english translation -->  i hope tom will not do that \n",
      "1.0\n",
      "####################\n",
      "italian sentence -->  odio quel rumore\n",
      "true english translation -->  i hate that noise <end>\n",
      "predicted english translation -->  i hate it matter \n",
      "0.5\n",
      "####################\n",
      "italian sentence -->  tom disse che sembravi un robot\n",
      "true english translation -->  tom said you sounded like a robot <end>\n",
      "predicted english translation -->  tom said you appeared very much \n",
      "0.423240862445307\n",
      "####################\n"
     ]
    },
    {
     "name": "stderr",
     "output_type": "stream",
     "text": [
      "100%|██████████| 5/5 [00:00<00:00, 18.25it/s]"
     ]
    },
    {
     "name": "stdout",
     "output_type": "stream",
     "text": [
      "Average_BLEU_score for 5 random sentences is : 0.6310767439176328\n"
     ]
    },
    {
     "name": "stderr",
     "output_type": "stream",
     "text": [
      "\n"
     ]
    }
   ],
   "source": [
    "# Predict on 1000 random sentences on test data and calculate the average BLEU score of these sentences.\n",
    "# https://www.nltk.org/_modules/nltk/translate/bleu_score.html\n",
    "\n",
    "import nltk.translate.bleu_score as bleu\n",
    "from tqdm import tqdm\n",
    "\n",
    "import warnings\n",
    "warnings.filterwarnings('ignore')\n",
    "\n",
    "BLEU_scores=[]\n",
    "\n",
    "model_1.load_weights('model_1_weights.h5')\n",
    "\n",
    "for i in tqdm(range(5)):\n",
    "    index= np.random.randint(low=0,high=validation.shape[0])\n",
    "    \n",
    "    italian_sentence=validation['italian'].values[index]\n",
    "    english_sentence=validation['english_out'].values[index]\n",
    "    \n",
    "    predicted_words_indices=predict(italian_sentence,model_1)\n",
    "    predicted_sentence=''\n",
    "    for index in predicted_words_indices:\n",
    "        predicted_sentence+= tknizer_eng.index_word[index]+' '\n",
    "    \n",
    "    reference=english_sentence.split()[:-1]\n",
    "    translation=predicted_sentence.split()\n",
    "    \n",
    "    BLEU_scores.append(bleu.sentence_bleu([reference],translation,weights=[1]))\n",
    "    print(\"italian sentence --> \",italian_sentence)\n",
    "    print(\"true english translation --> \",english_sentence)\n",
    "    print(\"predicted english translation --> \",predicted_sentence)\n",
    "    print(BLEU_scores[i])\n",
    "    print('#'*20)\n",
    "    \n",
    "print('Average_BLEU_score for 5 random sentences is :',np.mean(BLEU_scores))\n"
   ]
  },
  {
   "cell_type": "code",
   "execution_count": null,
   "metadata": {},
   "outputs": [
    {
     "name": "stderr",
     "output_type": "stream",
     "text": [
      "100%|██████████| 1000/1000 [00:49<00:00, 20.01it/s]"
     ]
    },
    {
     "name": "stdout",
     "output_type": "stream",
     "text": [
      "Average_BLEU_score for 1000 random sentences is : 0.711568344352006\n"
     ]
    },
    {
     "name": "stderr",
     "output_type": "stream",
     "text": [
      "\n"
     ]
    }
   ],
   "source": [
    "# Predict on 1000 random sentences on test data and calculate the average BLEU score of these sentences.\n",
    "# https://www.nltk.org/_modules/nltk/translate/bleu_score.html\n",
    "\n",
    "import nltk.translate.bleu_score as bleu\n",
    "from tqdm import tqdm\n",
    "\n",
    "import warnings\n",
    "warnings.filterwarnings('ignore')\n",
    "\n",
    "BLEU_scores=[]\n",
    "\n",
    "#model_1.load_weights('model_1_weights.h5')\n",
    "\n",
    "for i in tqdm(range(1000)):\n",
    "    index= np.random.randint(low=0,high=validation.shape[0])\n",
    "    \n",
    "    italian_sentence=validation['italian'].values[index]\n",
    "    english_sentence=validation['english_out'].values[index]\n",
    "    \n",
    "    predicted_words_indices=predict(italian_sentence,model_1)\n",
    "    predicted_sentence=''\n",
    "    for index in predicted_words_indices:\n",
    "        predicted_sentence+= tknizer_eng.index_word[index]+' '\n",
    "    \n",
    "    reference=english_sentence.split()[:-1]\n",
    "    translation=predicted_sentence.split()\n",
    "    \n",
    "    BLEU_scores.append(bleu.sentence_bleu([reference],translation,weights=[1]))\n",
    "    \n",
    "print('Average_BLEU_score for 1000 random sentences is :',np.mean(BLEU_scores))\n"
   ]
  },
  {
   "cell_type": "markdown",
   "metadata": {},
   "source": [
    "## Task -2: Including Attention mechanism"
   ]
  },
  {
   "cell_type": "markdown",
   "metadata": {},
   "source": [
    "1. Here we use the preprocessed data from Task-1\n",
    "\n",
    "2. We implement an Encoder and Decoder architecture with  \n",
    "attention.\n",
    "\n",
    "    * Encoder   - with 1 layer LSTM <br>\n",
    "    * Decoder   - with 1 layer LSTM<br>\n",
    "    * Attention \n",
    "    \n",
    "3. In Global attention, we have 3 types of scoring functions(as discussed in the reference research paper).\n",
    " **Here we create 3 models for each scoring function**\n",
    "<img src='https://i.imgur.com/iD2jZo3.png'>\n",
    "\n",
    "    * In model 1 you need to implemnt \"dot\" score function\n",
    "    * In model 2 you need to implemnt \"general\" score function\n",
    "    * In model 3 you need to implemnt \"concat\" score function.<br>\n",
    "     \n",
    "4. Resources:\n",
    "    a. <a href=\"https://jalammar.github.io/visualizing-neural-machine-translation-mechanics-of-seq2seq-models-with-attention/\">Resource 1</a>\n",
    "    b. <a href=\"https://www.tensorflow.org/tutorials/text/nmt_with_attention\">Resource 2</a>\n",
    "    c. <a href=\"https://stackoverflow.com/questions/44238154/what-is-the-difference-between-luong-attention-and-bahdanau-attention#:~:text=Luong%20attention%20used%20top%20hidden,hidden%20state%20at%20time%20t.\">Resource 3</a>\n",
    "    "
   ]
  },
  {
   "cell_type": "markdown",
   "metadata": {},
   "source": [
    "### <font color='red'>**Implement custom encoder decoder and attention layers**</font>"
   ]
  },
  {
   "cell_type": "markdown",
   "metadata": {},
   "source": [
    "#### <b><font color='red'>Encoder </font></b>"
   ]
  },
  {
   "cell_type": "code",
   "execution_count": null,
   "metadata": {},
   "outputs": [],
   "source": [
    "class Encoder(tf.keras.Model):\n",
    "    '''\n",
    "    Encoder model -- That takes a input sequence and returns output sequence\n",
    "    '''\n",
    "\n",
    "    def __init__(self,inp_vocab_size,embedding_size,lstm_size,input_length):\n",
    "      super().__init__()\n",
    "      #Initialize Embedding layer\n",
    "      #Intialize Encoder LSTM layer\n",
    "      self.inp_vocab_size=inp_vocab_size\n",
    "      self.embedding_size=embedding_size\n",
    "      self.lstm_size=lstm_size\n",
    "      self.input_length=input_length\n",
    "      self.lstm_output = 0\n",
    "      self.lstm_state_h = 0\n",
    "      self.lstm_state_c = 0\n",
    "      self.embedding = Embedding(input_dim=self.inp_vocab_size+1, output_dim=self.embedding_size, input_length=self.input_length,\\\n",
    "                                  name=\"embedding_layer_encoder\")\n",
    "      self.lstm = LSTM(self.lstm_size, return_state=True, return_sequences=True, name=\"Encoder_LSTM\")\n",
    "    \n",
    "    def call(self,input_sequence,states):\n",
    "      '''\n",
    "        This function takes a sequence input and the initial states of the encoder.\n",
    "        Pass the input_sequence input to the Embedding layer, Pass the embedding layer ouput to encoder_lstm\n",
    "        returns -- All encoder_outputs, last time steps hidden and cell state\n",
    "      '''\n",
    "      input_embedd = self.embedding(input_sequence)\n",
    "      self.lstm_output, self.lstm_state_h,self.lstm_state_c = self.lstm(input_embedd, initial_state=states)\n",
    "      \n",
    "      return self.lstm_output, self.lstm_state_h,self.lstm_state_c\n",
    "\n",
    "    \n",
    "    def initialize_states(self,batch_size):\n",
    "      '''\n",
    "      Given a batch size it will return intial hidden state and intial cell state.\n",
    "      If batch size is 32- Hidden state is zeros of size [32,lstm_units], cell state zeros is of size [32,lstm_units]\n",
    "      '''\n",
    "      self.lstm_state_h = tf.zeros(shape=(batch_size,self.lstm_size))\n",
    "      self.lstm_state_c = tf.zeros(shape=(batch_size,self.lstm_size))\n",
    "      \n",
    "      return [self.lstm_state_h,self.lstm_state_c]\n",
    "      \n"
   ]
  },
  {
   "cell_type": "markdown",
   "metadata": {},
   "source": [
    "#### <b><font color='red'>Attention using Bahdanu attention mechanism </font></b>"
   ]
  },
  {
   "cell_type": "code",
   "execution_count": null,
   "metadata": {},
   "outputs": [],
   "source": [
    "class Attention(tf.keras.layers.Layer):\n",
    "  '''\n",
    "    Class the calculates score based on the scoring_function using Bahdanu attention mechanism.\n",
    "  '''\n",
    "  def __init__(self,scoring_function, att_units):\n",
    "    super().__init__()\n",
    "    self.scoring_function=scoring_function\n",
    "    self.att_units=att_units\n",
    "  \n",
    "\n",
    "  #Here the shape of the weights depends on the last dimension of the input given , so we need to initialize them after calling the class,\n",
    "  #so we need to initialize them in the build method.\n",
    "  def build(self,input_shape):\n",
    "    if self.scoring_function=='dot':\n",
    "      # Intialize variables needed for Dot score function here\n",
    "      pass\n",
    "    if self.scoring_function == 'general':\n",
    "      # Intialize variables needed for General score function here\n",
    "      self.W = self.add_weight(shape=(input_shape[-1], self.att_units), initializer='glorot_uniform',trainable=True)\n",
    "      pass\n",
    "    elif self.scoring_function == 'concat':\n",
    "      # Intialize variables needed for Concat score function here\n",
    "      self.W1 = self.add_weight(shape=(input_shape[-1], self.att_units), initializer='glorot_uniform',trainable=True)\n",
    "      self.W2 = self.add_weight(shape=(input_shape[-1], self.att_units), initializer='glorot_uniform',trainable=True)\n",
    "      self.V = self.add_weight(shape=(input_shape[-1], 1), initializer='glorot_uniform',trainable=True)\n",
    "      pass\n",
    "  \n",
    "  def call(self,decoder_hidden_state,encoder_output):\n",
    "    '''\n",
    "    Attention mechanism takes two inputs current step -- decoder_hidden_state and all the encoder_outputs.\n",
    "    * Based on the scoring function we will find the score or similarity between decoder_hidden_state and encoder_output.\n",
    "      Multiply the score function with your encoder_outputs to get the context vector.\n",
    "      Function returns context vector and attention weights(softmax - scores)\n",
    "    '''\n",
    "    decoder_hidden_state = tf.expand_dims(decoder_hidden_state, axis = 1)\n",
    "    \n",
    "    if self.scoring_function == 'dot':\n",
    "      # Implement Dot score function here\n",
    "      sim_scores = tf.matmul(encoder_output, decoder_hidden_state, transpose_b = True)\n",
    "      pass\n",
    "    elif self.scoring_function == 'general':\n",
    "      # Implement General score function here\n",
    "      temp = tf.matmul(encoder_output, self.W, transpose_b = True)\n",
    "      sim_scores = tf.matmul(temp, decoder_hidden_state, transpose_b = True)\n",
    "      pass\n",
    "    elif self.scoring_function == 'concat':\n",
    "      # Implement General score function here\n",
    "      temp1 = tf.matmul(decoder_hidden_state, self.W1, transpose_b = True)\n",
    "      temp2 = tf.matmul(encoder_output, self.W2, transpose_b = True)\n",
    "      temp = tf.nn.tanh(temp1+temp2)\n",
    "      sim_scores = tf.matmul(temp, self.V)\n",
    "      pass\n",
    "    \n",
    "    #pass the scores through the softmax to get the attention weights between 0 and 1\n",
    "    attention_weights = tf.nn.softmax(sim_scores, axis = 1)\n",
    "    \n",
    "    #compute the weighted average of the encoder outputs\n",
    "    context_vector = tf.reduce_sum((attention_weights * encoder_output), axis=1)\n",
    "\n",
    "    return context_vector, attention_weights\n",
    "    \n",
    "    \n",
    "    "
   ]
  },
  {
   "cell_type": "markdown",
   "metadata": {},
   "source": [
    "#### <b><font color='red'>One-step decoder </font></b>"
   ]
  },
  {
   "cell_type": "code",
   "execution_count": null,
   "metadata": {},
   "outputs": [],
   "source": [
    "class One_Step_Decoder(tf.keras.Model):\n",
    "  def __init__(self,tar_vocab_size, embedding_dim, input_length,dec_units ,score_fun ,att_units,emb_matrix=None):\n",
    "    super().__init__()\n",
    "    # Initialize decoder embedding layer, LSTM and any other objects needed\n",
    "    if type(emb_matrix)==np.ndarray:\n",
    "      self.embedding = Embedding(input_dim = tar_vocab_size + 1, output_dim = embedding_dim, mask_zero=True,\n",
    "                            input_length = input_length, weights=[emb_matrix], trainable=False)\n",
    "    else:\n",
    "      self.embedding = Embedding(input_dim = tar_vocab_size + 1, output_dim = embedding_dim, mask_zero=True,\n",
    "                            input_length = input_length)\n",
    "    \n",
    "    self.attention = Attention(score_fun, att_units)\n",
    "    self.lstm = LSTM(units = dec_units, return_sequences = True,return_state = True)\n",
    "    self.dense = Dense(units = tar_vocab_size, activation = 'softmax')\n",
    "\n",
    "  def call(self,input_to_decoder, encoder_output, state_h,state_c):\n",
    "    '''\n",
    "        One step decoder mechanisim step by step:\n",
    "      A. Pass the input_to_decoder to the embedding layer and then get the output(batch_size,1,embedding_dim)\n",
    "      B. Using the encoder_output and decoder hidden state, compute the context vector.\n",
    "      C. Concat the context vector with the step A output\n",
    "      D. Pass the Step-C output to LSTM/GRU and get the decoder output and states(hidden and cell state)\n",
    "      E. Pass the decoder output to dense layer(vocab size) and store the result into output.\n",
    "      F. Return the states from step D, output from Step E, attention weights from Step -B\n",
    "    '''\n",
    "    embeddings = self.embedding(input_to_decoder)\n",
    "    \n",
    "    context_vector, attention_weights = self.attention(state_h, encoder_output)\n",
    "    \n",
    "    context_mod = tf.expand_dims(context_vector, axis = 1)\n",
    "    final_vector = tf.concat([embeddings, context_mod], axis=-1)\n",
    "    \n",
    "    decoder_output, decoder_state_h, decoder_state_c = self.lstm(final_vector)\n",
    "    \n",
    "    decoder_output = tf.squeeze(decoder_output, axis = 1)\n",
    "  \n",
    "    dense_output = self.dense(decoder_output)\n",
    "  \n",
    "    return dense_output, decoder_state_h, decoder_state_c, attention_weights, context_vector\n",
    "    \n"
   ]
  },
  {
   "cell_type": "markdown",
   "metadata": {},
   "source": [
    "#### <b><font color='red'>Decoder </font></b>"
   ]
  },
  {
   "cell_type": "code",
   "execution_count": null,
   "metadata": {},
   "outputs": [],
   "source": [
    "class Decoder(tf.keras.Model):\n",
    "  def __init__(self,out_vocab_size, embedding_dim, input_length, dec_units ,score_fun ,att_units,emb_matrix=None):\n",
    "    super().__init__()\n",
    "    #Intialize necessary variables and create an object from the class onestepdecoder\n",
    "    if type(emb_matrix)==np.ndarray:\n",
    "      self.onestepdecoder = One_Step_Decoder(out_vocab_size, embedding_dim, input_length, dec_units ,score_fun ,att_units, emb_matrix)\n",
    "    else:\n",
    "      self.onestepdecoder = One_Step_Decoder(out_vocab_size, embedding_dim, input_length, dec_units ,score_fun ,att_units)\n",
    "    self.input_length = input_length\n",
    "    \n",
    "  def call(self, input_to_decoder,encoder_output,decoder_hidden_state,decoder_cell_state ):\n",
    "\n",
    "    #Initialize an empty Tensor array, that will store the outputs at each and every time step\n",
    "    #Create a tensor array as shown in the reference notebook\n",
    "    \n",
    "    #Iterate till the length of the decoder input\n",
    "        # Call onestepdecoder for each token in decoder_input\n",
    "        # Store the output in tensorarray\n",
    "    # Return the tensor array\n",
    "    \n",
    "    Output = tf.TensorArray(tf.float32, size = self.input_length)\n",
    "      \n",
    "    for step in range(self.input_length):\n",
    "      output, decoder_hidden_state, decoder_cell_state, att_weights, context_vec = self.onestepdecoder(input_to_decoder[:, step:step+1], encoder_output, \n",
    "                                                        decoder_hidden_state, decoder_cell_state)\n",
    "      Output = Output.write(step, output)\n",
    "          \n",
    "    Output = tf.transpose(Output.stack(), perm=[1, 0, 2])\n",
    "    return Output\n",
    "        \n",
    "    "
   ]
  },
  {
   "cell_type": "markdown",
   "metadata": {},
   "source": [
    "#### <b><font color='red'>Encoder-decoder model </font></b>"
   ]
  },
  {
   "cell_type": "code",
   "execution_count": null,
   "metadata": {},
   "outputs": [],
   "source": [
    "class encoder_decoder(tf.keras.Model):\n",
    "  \n",
    "  def __init__(self,ip_vocab_size,ip_embed_size,lstm_units,att_units,input_len,op_vocab_size,op_embed_size,output_len,score_func,batch_size,emb_matrix=None):\n",
    "    #Intialize objects from encoder decoder\n",
    "    super().__init__() \n",
    "    self.batch_size = batch_size\n",
    "    self.encoder = Encoder(ip_vocab_size, ip_embed_size, lstm_units, input_len)\n",
    "    if type(emb_matrix)==np.ndarray:\n",
    "      self.decoder = Decoder(op_vocab_size, op_embed_size, output_len, lstm_units ,score_func,att_units, emb_matrix)\n",
    "    else:\n",
    "      self.decoder = Decoder(op_vocab_size, op_embed_size, output_len, lstm_units ,score_func,att_units)\n",
    "\n",
    "  def call(self,data):\n",
    "    #Intialize encoder states, Pass the encoder_sequence to the embedding layer\n",
    "    # Decoder initial states are encoder final states, Initialize it accordingly\n",
    "    # Pass the decoder sequence,encoder_output,decoder states to Decoder\n",
    "    # return the decoder output\n",
    "    \n",
    "    initial_states=self.encoder.initialize_states(self.batch_size)\n",
    "    input_data=data[0]\n",
    "    output_data=data[1]\n",
    "    encoder_output, encoder_final_state_h, encoder_final_state_c = self.encoder(input_data, initial_states)\n",
    "    \n",
    "    decoder_output = self.decoder(output_data, encoder_output, encoder_final_state_h, encoder_final_state_c)\n",
    "    \n",
    "    return decoder_output"
   ]
  },
  {
   "cell_type": "markdown",
   "metadata": {},
   "source": [
    "#### <b><font color='red'>Custom loss function </font></b>"
   ]
  },
  {
   "cell_type": "code",
   "execution_count": null,
   "metadata": {},
   "outputs": [],
   "source": [
    "#https://www.tensorflow.org/tutorials/text/image_captioning#model\n",
    "loss_object = tf.keras.losses.SparseCategoricalCrossentropy(reduction='none')\n",
    "\n",
    "def loss_function(real, pred):\n",
    "    \"\"\" \n",
    "    Custom loss function that will not consider the loss for padded zeros.\n",
    "    why are we using this, can't we use simple sparse categorical crossentropy?\n",
    "    Yes, you can use simple sparse categorical crossentropy as loss like we did in task-1. But in this loss function we are ignoring the loss\n",
    "    for the padded zeros. i.e when the input is zero then we do not need to worry what the output is. This padded zeros are added from our end\n",
    "    during preprocessing to make equal length for all the sentences.\n",
    "    \"\"\"\n",
    "    mask = tf.math.logical_not(tf.math.equal(real, 0))\n",
    "    loss_ = loss_object(real, pred)\n",
    "\n",
    "    mask = tf.cast(mask, dtype=loss_.dtype)\n",
    "    loss_ *= mask\n",
    "\n",
    "    return tf.reduce_mean(loss_)\n"
   ]
  },
  {
   "cell_type": "markdown",
   "metadata": {},
   "source": [
    "#### <b><font color='red'>Training the model </font></b>"
   ]
  },
  {
   "cell_type": "markdown",
   "metadata": {},
   "source": [
    "##### Model 2.1 Implementation with dot scoring function."
   ]
  },
  {
   "cell_type": "code",
   "execution_count": null,
   "metadata": {},
   "outputs": [
    {
     "name": "stdout",
     "output_type": "stream",
     "text": [
      "Epoch 1/25\n",
      "550/550 [==============================] - ETA: 0s - loss: 1.9485\n",
      "Epoch 00001: val_loss improved from inf to 1.81599, saving model to model_2_weights.h5\n",
      "550/550 [==============================] - 144s 219ms/step - loss: 1.9485 - val_loss: 1.8160\n",
      "Epoch 2/25\n",
      "550/550 [==============================] - ETA: 0s - loss: 1.7586\n",
      "Epoch 00002: val_loss improved from 1.81599 to 1.64940, saving model to model_2_weights.h5\n",
      "550/550 [==============================] - 114s 208ms/step - loss: 1.7586 - val_loss: 1.6494\n",
      "Epoch 3/25\n",
      "550/550 [==============================] - ETA: 0s - loss: 1.5284\n",
      "Epoch 00003: val_loss improved from 1.64940 to 1.41194, saving model to model_2_weights.h5\n",
      "550/550 [==============================] - 111s 202ms/step - loss: 1.5284 - val_loss: 1.4119\n",
      "Epoch 4/25\n",
      "550/550 [==============================] - ETA: 0s - loss: 1.3235\n",
      "Epoch 00004: val_loss improved from 1.41194 to 1.23524, saving model to model_2_weights.h5\n",
      "550/550 [==============================] - 112s 204ms/step - loss: 1.3235 - val_loss: 1.2352\n",
      "Epoch 5/25\n",
      "550/550 [==============================] - ETA: 0s - loss: 1.1765\n",
      "Epoch 00005: val_loss improved from 1.23524 to 1.10988, saving model to model_2_weights.h5\n",
      "550/550 [==============================] - 101s 183ms/step - loss: 1.1765 - val_loss: 1.1099\n",
      "Epoch 6/25\n",
      "550/550 [==============================] - ETA: 0s - loss: 1.0677\n",
      "Epoch 00006: val_loss improved from 1.10988 to 1.01291, saving model to model_2_weights.h5\n",
      "550/550 [==============================] - 96s 175ms/step - loss: 1.0677 - val_loss: 1.0129\n",
      "Epoch 7/25\n",
      "550/550 [==============================] - ETA: 0s - loss: 0.9800\n",
      "Epoch 00007: val_loss improved from 1.01291 to 0.93231, saving model to model_2_weights.h5\n",
      "550/550 [==============================] - 97s 176ms/step - loss: 0.9800 - val_loss: 0.9323\n",
      "Epoch 8/25\n",
      "550/550 [==============================] - ETA: 0s - loss: 0.9056\n",
      "Epoch 00008: val_loss improved from 0.93231 to 0.86284, saving model to model_2_weights.h5\n",
      "550/550 [==============================] - 96s 174ms/step - loss: 0.9056 - val_loss: 0.8628\n",
      "Epoch 9/25\n",
      "550/550 [==============================] - ETA: 0s - loss: 0.8392\n",
      "Epoch 00009: val_loss improved from 0.86284 to 0.79833, saving model to model_2_weights.h5\n",
      "550/550 [==============================] - 93s 169ms/step - loss: 0.8392 - val_loss: 0.7983\n",
      "Epoch 10/25\n",
      "550/550 [==============================] - ETA: 0s - loss: 0.7779\n",
      "Epoch 00010: val_loss improved from 0.79833 to 0.73740, saving model to model_2_weights.h5\n",
      "550/550 [==============================] - 92s 168ms/step - loss: 0.7779 - val_loss: 0.7374\n",
      "Epoch 11/25\n",
      "550/550 [==============================] - ETA: 0s - loss: 0.7201\n",
      "Epoch 00011: val_loss improved from 0.73740 to 0.68010, saving model to model_2_weights.h5\n",
      "550/550 [==============================] - 92s 168ms/step - loss: 0.7201 - val_loss: 0.6801\n",
      "Epoch 12/25\n",
      "550/550 [==============================] - ETA: 0s - loss: 0.6653\n",
      "Epoch 00012: val_loss improved from 0.68010 to 0.62631, saving model to model_2_weights.h5\n",
      "550/550 [==============================] - 93s 169ms/step - loss: 0.6653 - val_loss: 0.6263\n",
      "Epoch 13/25\n",
      "550/550 [==============================] - ETA: 0s - loss: 0.6139\n",
      "Epoch 00013: val_loss improved from 0.62631 to 0.57797, saving model to model_2_weights.h5\n",
      "550/550 [==============================] - 93s 168ms/step - loss: 0.6139 - val_loss: 0.5780\n",
      "Epoch 14/25\n",
      "550/550 [==============================] - ETA: 0s - loss: 0.5668\n",
      "Epoch 00014: val_loss improved from 0.57797 to 0.53389, saving model to model_2_weights.h5\n",
      "550/550 [==============================] - 93s 169ms/step - loss: 0.5668 - val_loss: 0.5339\n",
      "Epoch 15/25\n",
      "550/550 [==============================] - ETA: 0s - loss: 0.5249\n",
      "Epoch 00015: val_loss improved from 0.53389 to 0.49277, saving model to model_2_weights.h5\n",
      "550/550 [==============================] - 95s 173ms/step - loss: 0.5249 - val_loss: 0.4928\n",
      "Epoch 16/25\n",
      "550/550 [==============================] - ETA: 0s - loss: 0.4870\n",
      "Epoch 00016: val_loss improved from 0.49277 to 0.46355, saving model to model_2_weights.h5\n",
      "550/550 [==============================] - 96s 175ms/step - loss: 0.4870 - val_loss: 0.4636\n",
      "Epoch 17/25\n",
      "550/550 [==============================] - ETA: 0s - loss: 0.4544\n",
      "Epoch 00017: val_loss improved from 0.46355 to 0.42797, saving model to model_2_weights.h5\n",
      "550/550 [==============================] - 96s 175ms/step - loss: 0.4544 - val_loss: 0.4280\n",
      "Epoch 18/25\n",
      "550/550 [==============================] - ETA: 0s - loss: 0.4251\n",
      "Epoch 00018: val_loss improved from 0.42797 to 0.39894, saving model to model_2_weights.h5\n",
      "550/550 [==============================] - 96s 175ms/step - loss: 0.4251 - val_loss: 0.3989\n",
      "Epoch 19/25\n",
      "550/550 [==============================] - ETA: 0s - loss: 0.3994\n",
      "Epoch 00019: val_loss improved from 0.39894 to 0.37812, saving model to model_2_weights.h5\n",
      "550/550 [==============================] - 96s 175ms/step - loss: 0.3994 - val_loss: 0.3781\n",
      "Epoch 20/25\n",
      "550/550 [==============================] - ETA: 0s - loss: 0.3764\n",
      "Epoch 00020: val_loss improved from 0.37812 to 0.35449, saving model to model_2_weights.h5\n",
      "550/550 [==============================] - 96s 175ms/step - loss: 0.3764 - val_loss: 0.3545\n",
      "Epoch 21/25\n",
      "550/550 [==============================] - ETA: 0s - loss: 0.3555\n",
      "Epoch 00021: val_loss improved from 0.35449 to 0.33437, saving model to model_2_weights.h5\n",
      "550/550 [==============================] - 96s 174ms/step - loss: 0.3555 - val_loss: 0.3344\n",
      "Epoch 22/25\n",
      "550/550 [==============================] - ETA: 0s - loss: 0.3374\n",
      "Epoch 00022: val_loss improved from 0.33437 to 0.31789, saving model to model_2_weights.h5\n",
      "550/550 [==============================] - 94s 170ms/step - loss: 0.3374 - val_loss: 0.3179\n",
      "Epoch 23/25\n",
      "550/550 [==============================] - ETA: 0s - loss: 0.3211\n",
      "Epoch 00023: val_loss improved from 0.31789 to 0.30198, saving model to model_2_weights.h5\n",
      "550/550 [==============================] - 93s 170ms/step - loss: 0.3211 - val_loss: 0.3020\n",
      "Epoch 24/25\n",
      "550/550 [==============================] - ETA: 0s - loss: 0.3068\n",
      "Epoch 00024: val_loss improved from 0.30198 to 0.29136, saving model to model_2_weights.h5\n",
      "550/550 [==============================] - 94s 170ms/step - loss: 0.3068 - val_loss: 0.2914\n",
      "Epoch 25/25\n",
      "550/550 [==============================] - ETA: 0s - loss: 0.2941\n",
      "Epoch 00025: val_loss improved from 0.29136 to 0.28001, saving model to model_2_weights.h5\n",
      "550/550 [==============================] - 94s 171ms/step - loss: 0.2941 - val_loss: 0.2800\n",
      "Model: \"encoder_decoder_5\"\n",
      "_________________________________________________________________\n",
      " Layer (type)                Output Shape              Param #   \n",
      "=================================================================\n",
      " encoder_7 (Encoder)         multiple                  2702840   \n",
      "                                                                 \n",
      " decoder_17 (Decoder)        multiple                  2211314   \n",
      "                                                                 \n",
      "=================================================================\n",
      "Total params: 4,914,154\n",
      "Trainable params: 3,609,454\n",
      "Non-trainable params: 1,304,700\n",
      "_________________________________________________________________\n"
     ]
    }
   ],
   "source": [
    "# Implement teacher forcing while training your model. You can do it two ways.\n",
    "# Prepare your data, encoder_input,decoder_input and decoder_output\n",
    "# if decoder input is \n",
    "# <start> Hi how are you\n",
    "# decoder output should be\n",
    "# Hi How are you <end>\n",
    "# i.e when you have send <start>-- decoder predicted Hi, 'Hi' decoder predicted 'How' .. e.t.c\n",
    "\n",
    "# or\n",
    " \n",
    "# model.fit([train_ita,train_eng],train_eng[:,1:]..)\n",
    "\n",
    "from tensorflow.keras.callbacks import ModelCheckpoint,TensorBoard,EarlyStopping\n",
    "import os\n",
    "import datetime\n",
    "optimizer = tf.keras.optimizers.Adam()\n",
    "\n",
    "model_2=encoder_decoder(ip_vocab_size=vocab_size_ita,ip_embed_size=100,op_embed_size=100,input_len=20,lstm_units=64,\\\n",
    "                        att_units=64,output_len=20,op_vocab_size=vocab_size_eng,batch_size=512,score_func='dot',emb_matrix=embedding_matrix)\n",
    "\n",
    "model_2.compile(loss=[loss_function],optimizer=optimizer)\n",
    "\n",
    "train_steps=train.shape[0]//512\n",
    "valid_steps=validation.shape[0]//512\n",
    "\n",
    "log_dir = os.path.join(\"logs\",'fits', datetime.datetime.now().strftime(\"%Y%m%d-%H%M%S\"))\n",
    "tensorboard_callback = TensorBoard(log_dir=log_dir,histogram_freq=1,write_graph=True)\n",
    "earlystop = EarlyStopping(monitor=\"val_loss\",mode=\"auto\",patience=7,verbose=1)\n",
    "checkpt = ModelCheckpoint(monitor=\"val_loss\",mode=\"auto\",filepath='model_2_weights.h5',verbose=1,save_best_only=True,save_weights_only=True)\n",
    "callback_list = [tensorboard_callback,checkpt,earlystop]\n",
    "\n",
    "model_2.fit(train_dataloader, steps_per_epoch=train_steps, epochs=25, validation_data=train_dataloader,\\\n",
    "                validation_steps=valid_steps,callbacks=callback_list)\n",
    "\n",
    "model_2.summary()"
   ]
  },
  {
   "cell_type": "markdown",
   "metadata": {},
   "source": [
    "#### <b><font color='red'>Testing</font></b>"
   ]
  },
  {
   "cell_type": "markdown",
   "metadata": {},
   "source": [
    "<font color='blue'>**Plot attention weights**</font>"
   ]
  },
  {
   "cell_type": "code",
   "execution_count": null,
   "metadata": {},
   "outputs": [],
   "source": [
    "import matplotlib.ticker as ticker\n",
    "\n",
    "def plot_attention(attention, sentence, predicted_sentence):\n",
    "  #Refer: https://www.tensorflow.org/tutorials/text/nmt_with_attention#translate\n",
    "  sentence = sentence.split()\n",
    "  predicted_sentence = predicted_sentence.split()\n",
    "  fig = plt.figure(figsize=(10, 10))\n",
    "  ax = fig.add_subplot(1, 1, 1)\n",
    "\n",
    "  attention = attention[:len(predicted_sentence), :len(sentence)]\n",
    "\n",
    "  ax.matshow(attention, cmap='viridis', vmin=0.0)\n",
    "\n",
    "  fontdict = {'fontsize': 14}\n",
    "\n",
    "  ax.set_xticklabels([''] + sentence, fontdict=fontdict, rotation=90)\n",
    "  ax.set_yticklabels([''] + predicted_sentence, fontdict=fontdict)\n",
    "\n",
    "  ax.xaxis.set_major_locator(ticker.MultipleLocator(1))\n",
    "  ax.yaxis.set_major_locator(ticker.MultipleLocator(1))\n",
    "\n",
    "  ax.set_xlabel('Input text')\n",
    "  ax.set_ylabel('Output text')\n",
    "  plt.suptitle('Attention weights')\n"
   ]
  },
  {
   "cell_type": "markdown",
   "metadata": {},
   "source": [
    "<font color='blue'>**Predict the sentence translation**</font>"
   ]
  },
  {
   "cell_type": "code",
   "execution_count": null,
   "metadata": {},
   "outputs": [],
   "source": [
    "def predict(input_sentence,model):\n",
    "\n",
    "  '''\n",
    "  A. Given input sentence, convert the sentence into integers using tokenizer used earlier\n",
    "  B. Pass the input_sequence to encoder. we get encoder_outputs, last time step hidden and cell state\n",
    "  C. Initialize index of <start> as input to decoder. and encoder final states as input_states to onestepdecoder.\n",
    "  D. till we reach max_length of decoder or till the model predicted word <end>:\n",
    "         predictions, input_states, attention_weights = model.layers[1].onestepdecoder(input_to_decoder, encoder_output, input_states)\n",
    "         Save the attention weights\n",
    "         And get the word using the tokenizer(word index) and then store it in a string.\n",
    "  E. Call plot_attention(#params)\n",
    "  F. Return the predicted sentence\n",
    "  '''\n",
    "  encoder_seq = tknizer_ita.texts_to_sequences([input_sentence])\n",
    "  encoder_seq = pad_sequences([encoder_seq[0]], maxlen=20, dtype='int32', padding='post')\n",
    "  encoder_seq = tf.convert_to_tensor(encoder_seq)\n",
    "  initial_state = model.layers[0].initialize_states(1)\n",
    "  enc_output, enc_state_h, enc_state_c = model.layers[0](encoder_seq, initial_state)\n",
    "  \n",
    "  dec_state_h = enc_state_h\n",
    "  dec_state_c = enc_state_c\n",
    "  decoder_seq=tknizer_eng.word_index['<start>']\n",
    "  decoder_seq=tf.expand_dims([decoder_seq], 0)\n",
    "  \n",
    "  pred_words_indices=[]\n",
    "  attention_matrix=[]\n",
    "  \n",
    "  for i in range(20):\n",
    "         \n",
    "         dec_output, dec_state_h, dec_state_c, attention_weights, context_vector =model.layers[1].onestepdecoder(decoder_seq,enc_output,dec_state_h,dec_state_c)\n",
    "         \n",
    "         pred_index=np.argmax(dec_output)\n",
    "         decoder_seq = np.reshape(pred_index, (1, 1))\n",
    "         stop_index=tknizer_eng.word_index['<end>']\n",
    "         \n",
    "         attention_weights = tf.reshape(attention_weights, (-1, ))\n",
    "         attention_matrix.append(attention_weights)\n",
    "         \n",
    "         if pred_index == stop_index:\n",
    "                break\n",
    "         if pred_index!=0:\n",
    "              pred_words_indices.append(pred_index)\n",
    "   \n",
    "  predicted_sentence=''\n",
    "  for index in pred_words_indices:\n",
    "       predicted_sentence+= tknizer_eng.index_word[index]+' '\n",
    "        \n",
    "  return pred_words_indices,np.array(attention_matrix),predicted_sentence\n",
    "  "
   ]
  },
  {
   "cell_type": "markdown",
   "metadata": {},
   "source": [
    "<font color='blue'>**Calculate BLEU score**</font>"
   ]
  },
  {
   "cell_type": "code",
   "execution_count": null,
   "metadata": {},
   "outputs": [
    {
     "name": "stderr",
     "output_type": "stream",
     "text": [
      " 60%|██████    | 3/5 [00:00<00:00,  7.80it/s]"
     ]
    },
    {
     "name": "stdout",
     "output_type": "stream",
     "text": [
      "italian sentence -->  hanno riso tutti tranne tom\n",
      "true english translation -->  everyone laughed except tom <end>\n",
      "predicted english translation -->  they laughed all tom was \n",
      "BLEU Score is :  0.4\n",
      "####################\n",
      "italian sentence -->  chi vi insegna il francese\n",
      "true english translation -->  who teaches you french <end>\n",
      "predicted english translation -->  who teaches me french \n",
      "BLEU Score is :  0.75\n",
      "####################\n",
      "italian sentence -->  non siete più le benvenute in casa mia\n",
      "true english translation -->  you are not welcome in my home anymore <end>\n",
      "predicted english translation -->  you are not welcome to be at my house \n",
      "BLEU Score is :  0.5555555555555556\n",
      "####################\n"
     ]
    },
    {
     "name": "stderr",
     "output_type": "stream",
     "text": [
      "100%|██████████| 5/5 [00:00<00:00,  8.71it/s]\n"
     ]
    },
    {
     "name": "stdout",
     "output_type": "stream",
     "text": [
      "italian sentence -->  avete sentito il ruggito dei leoni\n",
      "true english translation -->  did you hear the roar of the lions <end>\n",
      "predicted english translation -->  did you hear the apple of the choir \n",
      "BLEU Score is :  0.75\n",
      "####################\n",
      "italian sentence -->  tom vide il file\n",
      "true english translation -->  tom saw the file <end>\n",
      "predicted english translation -->  tom saw the file \n",
      "BLEU Score is :  1.0\n",
      "####################\n"
     ]
    },
    {
     "data": {
      "image/png": "[encoded data removed]",
      "text/plain": [
       "<Figure size 720x720 with 1 Axes>"
      ]
     },
     "metadata": {},
     "output_type": "display_data"
    },
    {
     "data": {
      "image/png": "[encoded data removed]",
      "text/plain": [
       "<Figure size 720x720 with 1 Axes>"
      ]
     },
     "metadata": {},
     "output_type": "display_data"
    },
    {
     "data": {
      "image/png": "[encoded data removed]",
      "text/plain": [
       "<Figure size 720x720 with 1 Axes>"
      ]
     },
     "metadata": {},
     "output_type": "display_data"
    },
    {
     "data": {
      "image/png": "[encoded data removed]",
      "text/plain": [
       "<Figure size 720x720 with 1 Axes>"
      ]
     },
     "metadata": {},
     "output_type": "display_data"
    },
    {
     "data": {
      "image/png": "[encoded data removed]",
      "text/plain": [
       "<Figure size 720x720 with 1 Axes>"
      ]
     },
     "metadata": {},
     "output_type": "display_data"
    }
   ],
   "source": [
    "# Create an object of your custom model.\n",
    "# Compile and train your model on dot scoring function.\n",
    "# Visualize few sentences randomly in Test data\n",
    "# Predict on 1000 random sentences on test data and calculate the average BLEU score of these sentences.\n",
    "# https://www.nltk.org/_modules/nltk/translate/bleu_score.html\n",
    "\n",
    "import nltk.translate.bleu_score as bleu\n",
    "from tqdm import tqdm\n",
    "\n",
    "import warnings\n",
    "warnings.filterwarnings('ignore')\n",
    "\n",
    "BLEU_scores=[]\n",
    "\n",
    "#model_2.load_weights('model_1_weights.h5')\n",
    "\n",
    "for i in tqdm(range(5)):\n",
    "    index= np.random.randint(low=0,high=validation.shape[0])\n",
    "    \n",
    "    italian_sentence=validation['italian'].values[index]\n",
    "    english_sentence=validation['english_out'].values[index]\n",
    "    \n",
    "    predicted_words_indices,att_weights,predicted_sentence=predict(italian_sentence,model_2)\n",
    "    \n",
    "    reference=english_sentence.split()[:-1]\n",
    "    translation=predicted_sentence.split()\n",
    "    \n",
    "    BLEU_scores.append(bleu.sentence_bleu([reference],translation,weights=[1]))\n",
    "    print(\"italian sentence --> \",italian_sentence)\n",
    "    print(\"true english translation --> \",english_sentence)\n",
    "    print(\"predicted english translation --> \",predicted_sentence)\n",
    "    print(\"BLEU Score is : \",BLEU_scores[i])\n",
    "    \n",
    "    plot_attention(att_weights,italian_sentence,predicted_sentence)\n",
    "    print('#'*20)\n",
    "    "
   ]
  },
  {
   "cell_type": "code",
   "execution_count": null,
   "metadata": {},
   "outputs": [
    {
     "name": "stderr",
     "output_type": "stream",
     "text": [
      "100%|██████████| 1000/1000 [00:45<00:00, 22.07it/s]"
     ]
    },
    {
     "name": "stdout",
     "output_type": "stream",
     "text": [
      "Average_BLEU_score for 1000 random sentences is : 0.7265969438011216\n"
     ]
    },
    {
     "name": "stderr",
     "output_type": "stream",
     "text": [
      "\n"
     ]
    }
   ],
   "source": [
    "# Predict on 1000 random sentences on test data and calculate the average BLEU score of these sentences.\n",
    "# https://www.nltk.org/_modules/nltk/translate/bleu_score.html\n",
    "\n",
    "import nltk.translate.bleu_score as bleu\n",
    "from tqdm import tqdm\n",
    "\n",
    "import warnings\n",
    "warnings.filterwarnings('ignore')\n",
    "\n",
    "BLEU_scores=[]\n",
    "\n",
    "#model_1.load_weights('model_1_weights.h5')\n",
    "\n",
    "for i in tqdm(range(1000)):\n",
    "    index= np.random.randint(low=0,high=validation.shape[0])\n",
    "    \n",
    "    italian_sentence=validation['italian'].values[index]\n",
    "    english_sentence=validation['english_out'].values[index]\n",
    "    \n",
    "    predicted_words_indices,att_weights,predicted_sentence=predict(italian_sentence,model_2)\n",
    "    \n",
    "    reference=english_sentence.split()[:-1]\n",
    "    translation=predicted_sentence.split()\n",
    "    \n",
    "    BLEU_scores.append(bleu.sentence_bleu([reference],translation,weights=[1]))\n",
    "    \n",
    "print('Average_BLEU_score for 1000 random sentences is :',np.mean(BLEU_scores))"
   ]
  },
  {
   "cell_type": "markdown",
   "metadata": {},
   "source": [
    "#### Model 2.2 Implementation with General scoring function"
   ]
  },
  {
   "cell_type": "code",
   "execution_count": null,
   "metadata": {},
   "outputs": [
    {
     "name": "stdout",
     "output_type": "stream",
     "text": [
      "Epoch 1/25\n",
      "550/550 [==============================] - ETA: 0s - loss: 1.9661\n",
      "Epoch 00001: val_loss improved from inf to 1.84727, saving model to model_2_2_weights.h5\n",
      "550/550 [==============================] - 127s 191ms/step - loss: 1.9661 - val_loss: 1.8473\n",
      "Epoch 2/25\n",
      "550/550 [==============================] - ETA: 0s - loss: 1.7988\n",
      "Epoch 00002: val_loss improved from 1.84727 to 1.72969, saving model to model_2_2_weights.h5\n",
      "550/550 [==============================] - 99s 180ms/step - loss: 1.7988 - val_loss: 1.7297\n",
      "Epoch 3/25\n",
      "550/550 [==============================] - ETA: 0s - loss: 1.6551\n",
      "Epoch 00003: val_loss improved from 1.72969 to 1.56945, saving model to model_2_2_weights.h5\n",
      "550/550 [==============================] - 99s 180ms/step - loss: 1.6551 - val_loss: 1.5695\n",
      "Epoch 4/25\n",
      "550/550 [==============================] - ETA: 0s - loss: 1.4491\n",
      "Epoch 00004: val_loss improved from 1.56945 to 1.33011, saving model to model_2_2_weights.h5\n",
      "550/550 [==============================] - 100s 181ms/step - loss: 1.4491 - val_loss: 1.3301\n",
      "Epoch 5/25\n",
      "550/550 [==============================] - ETA: 0s - loss: 1.2485\n",
      "Epoch 00005: val_loss improved from 1.33011 to 1.15618, saving model to model_2_2_weights.h5\n",
      "550/550 [==============================] - 100s 181ms/step - loss: 1.2485 - val_loss: 1.1562\n",
      "Epoch 6/25\n",
      "550/550 [==============================] - ETA: 0s - loss: 1.0859\n",
      "Epoch 00006: val_loss improved from 1.15618 to 1.00362, saving model to model_2_2_weights.h5\n",
      "550/550 [==============================] - 100s 182ms/step - loss: 1.0859 - val_loss: 1.0036\n",
      "Epoch 7/25\n",
      "550/550 [==============================] - ETA: 0s - loss: 0.9499\n",
      "Epoch 00007: val_loss improved from 1.00362 to 0.88055, saving model to model_2_2_weights.h5\n",
      "550/550 [==============================] - 101s 183ms/step - loss: 0.9499 - val_loss: 0.8805\n",
      "Epoch 8/25\n",
      "550/550 [==============================] - ETA: 0s - loss: 0.8406\n",
      "Epoch 00008: val_loss improved from 0.88055 to 0.78474, saving model to model_2_2_weights.h5\n",
      "550/550 [==============================] - 100s 182ms/step - loss: 0.8406 - val_loss: 0.7847\n",
      "Epoch 9/25\n",
      "550/550 [==============================] - ETA: 0s - loss: 0.7526\n",
      "Epoch 00009: val_loss improved from 0.78474 to 0.70136, saving model to model_2_2_weights.h5\n",
      "550/550 [==============================] - 100s 182ms/step - loss: 0.7526 - val_loss: 0.7014\n",
      "Epoch 10/25\n",
      "550/550 [==============================] - ETA: 0s - loss: 0.6781\n",
      "Epoch 00010: val_loss improved from 0.70136 to 0.63353, saving model to model_2_2_weights.h5\n",
      "550/550 [==============================] - 100s 183ms/step - loss: 0.6781 - val_loss: 0.6335\n",
      "Epoch 11/25\n",
      "550/550 [==============================] - ETA: 0s - loss: 0.6146\n",
      "Epoch 00011: val_loss improved from 0.63353 to 0.57229, saving model to model_2_2_weights.h5\n",
      "550/550 [==============================] - 101s 183ms/step - loss: 0.6146 - val_loss: 0.5723\n",
      "Epoch 12/25\n",
      "550/550 [==============================] - ETA: 0s - loss: 0.5587\n",
      "Epoch 00012: val_loss improved from 0.57229 to 0.52699, saving model to model_2_2_weights.h5\n",
      "550/550 [==============================] - 101s 183ms/step - loss: 0.5587 - val_loss: 0.5270\n",
      "Epoch 13/25\n",
      "550/550 [==============================] - ETA: 0s - loss: 0.5114\n",
      "Epoch 00013: val_loss improved from 0.52699 to 0.48024, saving model to model_2_2_weights.h5\n",
      "550/550 [==============================] - 100s 182ms/step - loss: 0.5114 - val_loss: 0.4802\n",
      "Epoch 14/25\n",
      "550/550 [==============================] - ETA: 0s - loss: 0.4719\n",
      "Epoch 00014: val_loss improved from 0.48024 to 0.44107, saving model to model_2_2_weights.h5\n",
      "550/550 [==============================] - 100s 182ms/step - loss: 0.4719 - val_loss: 0.4411\n",
      "Epoch 15/25\n",
      "550/550 [==============================] - ETA: 0s - loss: 0.4374\n",
      "Epoch 00015: val_loss improved from 0.44107 to 0.40985, saving model to model_2_2_weights.h5\n",
      "550/550 [==============================] - 100s 183ms/step - loss: 0.4374 - val_loss: 0.4099\n",
      "Epoch 16/25\n",
      "550/550 [==============================] - ETA: 0s - loss: 0.4065\n",
      "Epoch 00016: val_loss improved from 0.40985 to 0.38212, saving model to model_2_2_weights.h5\n",
      "550/550 [==============================] - 100s 182ms/step - loss: 0.4065 - val_loss: 0.3821\n",
      "Epoch 17/25\n",
      "550/550 [==============================] - ETA: 0s - loss: 0.3818\n",
      "Epoch 00017: val_loss improved from 0.38212 to 0.36059, saving model to model_2_2_weights.h5\n",
      "550/550 [==============================] - 100s 182ms/step - loss: 0.3818 - val_loss: 0.3606\n",
      "Epoch 18/25\n",
      "550/550 [==============================] - ETA: 0s - loss: 0.3585\n",
      "Epoch 00018: val_loss improved from 0.36059 to 0.33693, saving model to model_2_2_weights.h5\n",
      "550/550 [==============================] - 100s 182ms/step - loss: 0.3585 - val_loss: 0.3369\n",
      "Epoch 19/25\n",
      "550/550 [==============================] - ETA: 0s - loss: 0.3389\n",
      "Epoch 00019: val_loss improved from 0.33693 to 0.31890, saving model to model_2_2_weights.h5\n",
      "550/550 [==============================] - 100s 182ms/step - loss: 0.3389 - val_loss: 0.3189\n",
      "Epoch 20/25\n",
      "550/550 [==============================] - ETA: 0s - loss: 0.3215\n",
      "Epoch 00020: val_loss improved from 0.31890 to 0.30101, saving model to model_2_2_weights.h5\n",
      "550/550 [==============================] - 100s 182ms/step - loss: 0.3215 - val_loss: 0.3010\n",
      "Epoch 21/25\n",
      "550/550 [==============================] - ETA: 0s - loss: 0.3065\n",
      "Epoch 00021: val_loss improved from 0.30101 to 0.28786, saving model to model_2_2_weights.h5\n",
      "550/550 [==============================] - 100s 182ms/step - loss: 0.3065 - val_loss: 0.2879\n",
      "Epoch 22/25\n",
      "550/550 [==============================] - ETA: 0s - loss: 0.2929\n",
      "Epoch 00022: val_loss improved from 0.28786 to 0.27735, saving model to model_2_2_weights.h5\n",
      "550/550 [==============================] - 100s 182ms/step - loss: 0.2929 - val_loss: 0.2774\n",
      "Epoch 23/25\n",
      "550/550 [==============================] - ETA: 0s - loss: 0.2798\n",
      "Epoch 00023: val_loss improved from 0.27735 to 0.26400, saving model to model_2_2_weights.h5\n",
      "550/550 [==============================] - 101s 183ms/step - loss: 0.2798 - val_loss: 0.2640\n",
      "Epoch 24/25\n",
      "550/550 [==============================] - ETA: 0s - loss: 0.2690\n",
      "Epoch 00024: val_loss improved from 0.26400 to 0.25458, saving model to model_2_2_weights.h5\n",
      "550/550 [==============================] - 100s 182ms/step - loss: 0.2690 - val_loss: 0.2546\n",
      "Epoch 25/25\n",
      "550/550 [==============================] - ETA: 0s - loss: 0.2591\n",
      "Epoch 00025: val_loss improved from 0.25458 to 0.24753, saving model to model_2_2_weights.h5\n",
      "550/550 [==============================] - 100s 182ms/step - loss: 0.2591 - val_loss: 0.2475\n",
      "Model: \"encoder_decoder_6\"\n",
      "_________________________________________________________________\n",
      " Layer (type)                Output Shape              Param #   \n",
      "=================================================================\n",
      " encoder_8 (Encoder)         multiple                  2702840   \n",
      "                                                                 \n",
      " decoder_18 (Decoder)        multiple                  2215410   \n",
      "                                                                 \n",
      "=================================================================\n",
      "Total params: 4,918,250\n",
      "Trainable params: 3,613,550\n",
      "Non-trainable params: 1,304,700\n",
      "_________________________________________________________________\n"
     ]
    }
   ],
   "source": [
    "# Implement teacher forcing while training your model. You can do it two ways.\n",
    "# Prepare your data, encoder_input,decoder_input and decoder_output\n",
    "# if decoder input is \n",
    "# <start> Hi how are you\n",
    "# decoder output should be\n",
    "# Hi How are you <end>\n",
    "# i.e when you have send <start>-- decoder predicted Hi, 'Hi' decoder predicted 'How' .. e.t.c\n",
    "\n",
    "# or\n",
    " \n",
    "# model.fit([train_ita,train_eng],train_eng[:,1:]..)\n",
    "# Note: If you follow this approach some grader functions might return false and this is fine.\n",
    "\n",
    "from tensorflow.keras.callbacks import ModelCheckpoint,TensorBoard,EarlyStopping\n",
    "import os\n",
    "import datetime\n",
    "optimizer = tf.keras.optimizers.Adam()\n",
    "\n",
    "model_2=encoder_decoder(ip_vocab_size=vocab_size_ita,ip_embed_size=100,op_embed_size=100,input_len=20,lstm_units=64,\\\n",
    "                        att_units=64,output_len=20,op_vocab_size=vocab_size_eng,batch_size=512,score_func='general',emb_matrix=embedding_matrix)\n",
    "\n",
    "model_2.compile(loss=[loss_function],optimizer=optimizer)\n",
    "\n",
    "train_steps=train.shape[0]//512\n",
    "valid_steps=validation.shape[0]//512\n",
    "\n",
    "log_dir = os.path.join(\"logs\",'fits', datetime.datetime.now().strftime(\"%Y%m%d-%H%M%S\"))\n",
    "tensorboard_callback = TensorBoard(log_dir=log_dir,histogram_freq=1,write_graph=True)\n",
    "earlystop = EarlyStopping(monitor=\"val_loss\",mode=\"auto\",patience=7,verbose=1)\n",
    "checkpt = ModelCheckpoint(monitor=\"val_loss\",mode=\"auto\",filepath='model_2_2_weights.h5',verbose=1,save_best_only=True,save_weights_only=True)\n",
    "callback_list = [tensorboard_callback,checkpt,earlystop]\n",
    "\n",
    "model_2.fit(train_dataloader, steps_per_epoch=train_steps, epochs=25, validation_data=train_dataloader,\\\n",
    "                validation_steps=valid_steps,callbacks=callback_list)\n",
    "\n",
    "model_2.summary()"
   ]
  },
  {
   "cell_type": "markdown",
   "metadata": {},
   "source": [
    "#### <b><font color='red'>Testing</font></b>"
   ]
  },
  {
   "cell_type": "markdown",
   "metadata": {},
   "source": [
    "<font color='blue'>**Calculate BLEU score**</font>"
   ]
  },
  {
   "cell_type": "code",
   "execution_count": null,
   "metadata": {},
   "outputs": [
    {
     "name": "stderr",
     "output_type": "stream",
     "text": [
      " 60%|██████    | 3/5 [00:00<00:00,  7.12it/s]"
     ]
    },
    {
     "name": "stdout",
     "output_type": "stream",
     "text": [
      "italian sentence -->  tom è stato assalito\n",
      "true english translation -->  tom was assaulted <end>\n",
      "predicted english translation -->  tom was assaulted \n",
      "BLEU Score is :  1.0\n",
      "####################\n",
      "italian sentence -->  vi piace la musica\n",
      "true english translation -->  do you like music <end>\n",
      "predicted english translation -->  do you like music \n",
      "BLEU Score is :  1.0\n",
      "####################\n",
      "italian sentence -->  devi farlo per conto tuo\n",
      "true english translation -->  you have to do it by yourself <end>\n",
      "predicted english translation -->  you have to do that by yourself \n",
      "BLEU Score is :  0.8571428571428571\n",
      "####################\n",
      "italian sentence -->  perché le interessa\n",
      "true english translation -->  why does that interest you <end>\n",
      "predicted english translation -->  why do you care \n",
      "BLEU Score is :  0.38940039153570244\n"
     ]
    },
    {
     "name": "stderr",
     "output_type": "stream",
     "text": [
      "100%|██████████| 5/5 [00:00<00:00,  8.15it/s]\n"
     ]
    },
    {
     "name": "stdout",
     "output_type": "stream",
     "text": [
      "####################\n",
      "italian sentence -->  penso che tom sia amico di mary\n",
      "true english translation -->  i think tom is acquainted with mary <end>\n",
      "predicted english translation -->  i think tom is friend \n",
      "BLEU Score is :  0.5362560368285115\n",
      "####################\n"
     ]
    },
    {
     "data": {
      "image/png": "[encoded data removed]",
      "text/plain": [
       "<Figure size 720x720 with 1 Axes>"
      ]
     },
     "metadata": {},
     "output_type": "display_data"
    },
    {
     "data": {
      "image/png": "[encoded data removed]",
      "text/plain": [
       "<Figure size 720x720 with 1 Axes>"
      ]
     },
     "metadata": {},
     "output_type": "display_data"
    },
    {
     "data": {
      "image/png": "[encoded data removed]",
      "text/plain": [
       "<Figure size 720x720 with 1 Axes>"
      ]
     },
     "metadata": {},
     "output_type": "display_data"
    },
    {
     "data": {
      "image/png": "[encoded data removed]",
      "text/plain": [
       "<Figure size 720x720 with 1 Axes>"
      ]
     },
     "metadata": {},
     "output_type": "display_data"
    },
    {
     "data": {
      "image/png": "[encoded data removed]",
      "text/plain": [
       "<Figure size 720x720 with 1 Axes>"
      ]
     },
     "metadata": {},
     "output_type": "display_data"
    }
   ],
   "source": [
    "#Create an object of your custom model.\n",
    "#Compile and train your model on dot scoring function.\n",
    "# Visualize few sentences randomly in Test data\n",
    "# Predict on 1000 random sentences on test data and calculate the average BLEU score of these sentences.\n",
    "# https://www.nltk.org/_modules/nltk/translate/bleu_score.html\n",
    "\n",
    "import nltk.translate.bleu_score as bleu\n",
    "from tqdm import tqdm\n",
    "\n",
    "import warnings\n",
    "warnings.filterwarnings('ignore')\n",
    "\n",
    "BLEU_scores=[]\n",
    "\n",
    "#model_2.load_weights('model_1_weights.h5')\n",
    "\n",
    "for i in tqdm(range(5)):\n",
    "    index= np.random.randint(low=0,high=validation.shape[0])\n",
    "    \n",
    "    italian_sentence=validation['italian'].values[index]\n",
    "    english_sentence=validation['english_out'].values[index]\n",
    "    \n",
    "    predicted_words_indices,att_weights,predicted_sentence=predict(italian_sentence,model_2)\n",
    "    \n",
    "    reference=english_sentence.split()[:-1]\n",
    "    translation=predicted_sentence.split()\n",
    "    \n",
    "    BLEU_scores.append(bleu.sentence_bleu([reference],translation,weights=[1]))\n",
    "    print(\"italian sentence --> \",italian_sentence)\n",
    "    print(\"true english translation --> \",english_sentence)\n",
    "    print(\"predicted english translation --> \",predicted_sentence)\n",
    "    print(\"BLEU Score is : \",BLEU_scores[i])\n",
    "    \n",
    "    plot_attention(att_weights,italian_sentence,predicted_sentence)\n",
    "    print('#'*20)\n",
    "    "
   ]
  },
  {
   "cell_type": "code",
   "execution_count": null,
   "metadata": {},
   "outputs": [
    {
     "name": "stderr",
     "output_type": "stream",
     "text": [
      "100%|██████████| 1000/1000 [00:47<00:00, 20.94it/s]"
     ]
    },
    {
     "name": "stdout",
     "output_type": "stream",
     "text": [
      "Average_BLEU_score for 1000 random sentences is : 0.7394842381177127\n"
     ]
    },
    {
     "name": "stderr",
     "output_type": "stream",
     "text": [
      "\n"
     ]
    }
   ],
   "source": [
    "# Predict on 1000 random sentences on test data and calculate the average BLEU score of these sentences.\n",
    "# https://www.nltk.org/_modules/nltk/translate/bleu_score.html\n",
    "\n",
    "import nltk.translate.bleu_score as bleu\n",
    "from tqdm import tqdm\n",
    "\n",
    "import warnings\n",
    "warnings.filterwarnings('ignore')\n",
    "\n",
    "BLEU_scores=[]\n",
    "\n",
    "#model_1.load_weights('model_1_weights.h5')\n",
    "\n",
    "for i in tqdm(range(1000)):\n",
    "    index= np.random.randint(low=0,high=validation.shape[0])\n",
    "    \n",
    "    italian_sentence=validation['italian'].values[index]\n",
    "    english_sentence=validation['english_out'].values[index]\n",
    "    \n",
    "    predicted_words_indices,att_weights,predicted_sentence=predict(italian_sentence,model_2)\n",
    "    \n",
    "    reference=english_sentence.split()[:-1]\n",
    "    translation=predicted_sentence.split()\n",
    "    \n",
    "    BLEU_scores.append(bleu.sentence_bleu([reference],translation,weights=[1]))\n",
    "    \n",
    "print('Average_BLEU_score for 1000 random sentences is :',np.mean(BLEU_scores))"
   ]
  },
  {
   "cell_type": "markdown",
   "metadata": {},
   "source": [
    "#### Model 2.3 Implementation with Concat scoring function"
   ]
  },
  {
   "cell_type": "code",
   "execution_count": null,
   "metadata": {},
   "outputs": [
    {
     "name": "stdout",
     "output_type": "stream",
     "text": [
      "Epoch 1/25\n",
      "550/550 [==============================] - 133s 198ms/step - loss: 1.9670 - val_loss: 1.8470\n",
      "Epoch 2/25\n",
      "550/550 [==============================] - 103s 187ms/step - loss: 1.7979 - val_loss: 1.6935\n",
      "Epoch 3/25\n",
      "550/550 [==============================] - 103s 188ms/step - loss: 1.5288 - val_loss: 1.3790\n",
      "Epoch 4/25\n",
      "550/550 [==============================] - 104s 189ms/step - loss: 1.2756 - val_loss: 1.1698\n",
      "Epoch 5/25\n",
      "550/550 [==============================] - 104s 190ms/step - loss: 1.0917 - val_loss: 1.0038\n",
      "Epoch 6/25\n",
      "550/550 [==============================] - 104s 189ms/step - loss: 0.9411 - val_loss: 0.8658\n",
      "Epoch 7/25\n",
      "550/550 [==============================] - 104s 190ms/step - loss: 0.8203 - val_loss: 0.7577\n",
      "Epoch 8/25\n",
      "550/550 [==============================] - 104s 189ms/step - loss: 0.7225 - val_loss: 0.6705\n",
      "Epoch 9/25\n",
      "550/550 [==============================] - 105s 190ms/step - loss: 0.6431 - val_loss: 0.5967\n",
      "Epoch 10/25\n",
      "550/550 [==============================] - 105s 190ms/step - loss: 0.5773 - val_loss: 0.5365\n",
      "Epoch 11/25\n",
      "550/550 [==============================] - 104s 190ms/step - loss: 0.5233 - val_loss: 0.4884\n",
      "Epoch 12/25\n",
      "550/550 [==============================] - 105s 190ms/step - loss: 0.4778 - val_loss: 0.4470\n",
      "Epoch 13/25\n",
      "550/550 [==============================] - 105s 191ms/step - loss: 0.4425 - val_loss: 0.4112\n",
      "Epoch 14/25\n",
      "550/550 [==============================] - 105s 191ms/step - loss: 0.4078 - val_loss: 0.3825\n",
      "Epoch 15/25\n",
      "550/550 [==============================] - 105s 190ms/step - loss: 0.3792 - val_loss: 0.3548\n",
      "Epoch 16/25\n",
      "550/550 [==============================] - 104s 190ms/step - loss: 0.3576 - val_loss: 0.3338\n",
      "Epoch 17/25\n",
      "550/550 [==============================] - 104s 190ms/step - loss: 0.3355 - val_loss: 0.3136\n",
      "Epoch 18/25\n",
      "550/550 [==============================] - 104s 190ms/step - loss: 0.3168 - val_loss: 0.2981\n",
      "Epoch 19/25\n",
      "550/550 [==============================] - 105s 190ms/step - loss: 0.3006 - val_loss: 0.2821\n",
      "Epoch 20/25\n",
      "550/550 [==============================] - 105s 190ms/step - loss: 0.2871 - val_loss: 0.2696\n",
      "Epoch 21/25\n",
      "550/550 [==============================] - 105s 190ms/step - loss: 0.2750 - val_loss: 0.2561\n",
      "Epoch 22/25\n",
      "550/550 [==============================] - 105s 190ms/step - loss: 0.2640 - val_loss: 0.2465\n",
      "Epoch 23/25\n",
      "550/550 [==============================] - 104s 190ms/step - loss: 0.2513 - val_loss: 0.2371\n",
      "Epoch 24/25\n",
      "550/550 [==============================] - 104s 190ms/step - loss: 0.2425 - val_loss: 0.2274\n",
      "Epoch 25/25\n",
      "550/550 [==============================] - 105s 190ms/step - loss: 0.2347 - val_loss: 0.2209\n",
      "Model: \"encoder_decoder_10\"\n",
      "_________________________________________________________________\n",
      " Layer (type)                Output Shape              Param #   \n",
      "=================================================================\n",
      " encoder_12 (Encoder)        multiple                  2702840   \n",
      "                                                                 \n",
      " decoder_22 (Decoder)        multiple                  2219570   \n",
      "                                                                 \n",
      "=================================================================\n",
      "Total params: 4,922,410\n",
      "Trainable params: 3,617,710\n",
      "Non-trainable params: 1,304,700\n",
      "_________________________________________________________________\n"
     ]
    }
   ],
   "source": [
    "# Implement teacher forcing while training your model. You can do it two ways.\n",
    "# Prepare your data, encoder_input,decoder_input and decoder_output\n",
    "# if decoder input is \n",
    "# <start> Hi how are you\n",
    "# decoder output should be\n",
    "# Hi How are you <end>\n",
    "# i.e when you have send <start>-- decoder predicted Hi, 'Hi' decoder predicted 'How' .. e.t.c\n",
    "\n",
    "# or\n",
    " \n",
    "# model.fit([train_ita,train_eng],train_eng[:,1:]..)\n",
    "\n",
    "from tensorflow.keras.callbacks import ModelCheckpoint,TensorBoard,EarlyStopping\n",
    "import os\n",
    "import datetime\n",
    "optimizer = tf.keras.optimizers.Adam()\n",
    "\n",
    "model_2=encoder_decoder(ip_vocab_size=vocab_size_ita,ip_embed_size=100,op_embed_size=100,input_len=20,lstm_units=64,\\\n",
    "                        att_units=64,output_len=20,op_vocab_size=vocab_size_eng,batch_size=512,score_func='concat',emb_matrix=embedding_matrix)\n",
    "\n",
    "model_2.compile(loss=[loss_function],optimizer=optimizer)\n",
    "\n",
    "train_steps=train.shape[0]//512\n",
    "valid_steps=validation.shape[0]//512\n",
    "\n",
    "log_dir = os.path.join(\"logs\",'fits', datetime.datetime.now().strftime(\"%Y%m%d-%H%M%S\"))\n",
    "tensorboard_callback = TensorBoard(log_dir=log_dir,histogram_freq=1,write_graph=True)\n",
    "earlystop = EarlyStopping(monitor=\"val_loss\",mode=\"auto\",patience=7,verbose=1)\n",
    "checkpt = ModelCheckpoint(monitor=\"val_loss\",mode=\"auto\",filepath='model_2_3_weights.h5',verbose=0,save_best_only=True,save_weights_only=True)\n",
    "callback_list = [tensorboard_callback,earlystop,checkpt]\n",
    "\n",
    "model_2.fit(train_dataloader, steps_per_epoch=train_steps, epochs=25, validation_data=train_dataloader,\\\n",
    "                validation_steps=valid_steps,callbacks=callback_list)\n",
    "\n",
    "model_2.summary()"
   ]
  },
  {
   "cell_type": "markdown",
   "metadata": {},
   "source": [
    "#### <b><font color='red'>Testing</font></b>"
   ]
  },
  {
   "cell_type": "markdown",
   "metadata": {},
   "source": [
    "<font color='blue'>**Calculate BLEU score**</font>"
   ]
  },
  {
   "cell_type": "code",
   "execution_count": null,
   "metadata": {},
   "outputs": [
    {
     "name": "stderr",
     "output_type": "stream",
     "text": [
      " 40%|████      | 2/5 [00:00<00:00,  7.98it/s]"
     ]
    },
    {
     "name": "stdout",
     "output_type": "stream",
     "text": [
      "italian sentence -->  nessuno riusciva a trovare tom\n",
      "true english translation -->  no one could find tom <end>\n",
      "predicted english translation -->  no one could find tom \n",
      "BLEU Score is :  1.0\n",
      "####################\n",
      "italian sentence -->  è stato molto gentile da parte tua di prestarmi un ombrello\n",
      "true english translation -->  it was very kind of you to lend me an umbrella <end>\n",
      "predicted english translation -->  it was very kind of your mind to me umbrella umbrella \n",
      "BLEU Score is :  0.7272727272727273\n",
      "####################\n",
      "italian sentence -->  ci lamentiamo troppo\n",
      "true english translation -->  we complain too much <end>\n",
      "predicted english translation -->  it complain it too much \n",
      "BLEU Score is :  0.6\n"
     ]
    },
    {
     "name": "stderr",
     "output_type": "stream",
     "text": [
      "100%|██████████| 5/5 [00:00<00:00, 11.61it/s]\n"
     ]
    },
    {
     "name": "stdout",
     "output_type": "stream",
     "text": [
      "####################\n",
      "italian sentence -->  amo davvero allenarmi\n",
      "true english translation -->  i really love working out <end>\n",
      "predicted english translation -->  i really love working out \n",
      "BLEU Score is :  1.0\n",
      "####################\n",
      "italian sentence -->  silenzio per piacere\n",
      "true english translation -->  quiet please <end>\n",
      "predicted english translation -->  they please \n",
      "BLEU Score is :  0.5\n",
      "####################\n"
     ]
    },
    {
     "data": {
      "image/png": "[encoded data removed]",
      "text/plain": [
       "<Figure size 720x720 with 1 Axes>"
      ]
     },
     "metadata": {},
     "output_type": "display_data"
    },
    {
     "data": {
      "image/png": "[encoded data removed]",
      "text/plain": [
       "<Figure size 720x720 with 1 Axes>"
      ]
     },
     "metadata": {},
     "output_type": "display_data"
    },
    {
     "data": {
      "image/png": "[encoded data removed]",
      "text/plain": [
       "<Figure size 720x720 with 1 Axes>"
      ]
     },
     "metadata": {},
     "output_type": "display_data"
    },
    {
     "data": {
      "image/png": "[encoded data removed]",
      "text/plain": [
       "<Figure size 720x720 with 1 Axes>"
      ]
     },
     "metadata": {},
     "output_type": "display_data"
    },
    {
     "data": {
      "image/png": "[encoded data removed]",
      "text/plain": [
       "<Figure size 720x720 with 1 Axes>"
      ]
     },
     "metadata": {},
     "output_type": "display_data"
    }
   ],
   "source": [
    "#Create an object of your custom model.\n",
    "#Compile and train your model on dot scoring function.\n",
    "# Visualize few sentences randomly in Test data\n",
    "# Predict on 1000 random sentences on test data and calculate the average BLEU score of these sentences.\n",
    "# https://www.nltk.org/_modules/nltk/translate/bleu_score.html\n",
    "\n",
    "import nltk.translate.bleu_score as bleu\n",
    "from tqdm import tqdm\n",
    "\n",
    "import warnings\n",
    "warnings.filterwarnings('ignore')\n",
    "\n",
    "BLEU_scores=[]\n",
    "\n",
    "#model_2.load_weights('model_1_weights.h5')\n",
    "\n",
    "for i in tqdm(range(5)):\n",
    "    index= np.random.randint(low=0,high=validation.shape[0])\n",
    "    \n",
    "    italian_sentence=validation['italian'].values[index]\n",
    "    english_sentence=validation['english_out'].values[index]\n",
    "    \n",
    "    predicted_words_indices,att_weights,predicted_sentence=predict(italian_sentence,model_2)\n",
    "    \n",
    "    reference=english_sentence.split()[:-1]\n",
    "    translation=predicted_sentence.split()\n",
    "    \n",
    "    BLEU_scores.append(bleu.sentence_bleu([reference],translation,weights=[1]))\n",
    "    print(\"italian sentence --> \",italian_sentence)\n",
    "    print(\"true english translation --> \",english_sentence)\n",
    "    print(\"predicted english translation --> \",predicted_sentence)\n",
    "    print(\"BLEU Score is : \",BLEU_scores[i])\n",
    "    \n",
    "    plot_attention(att_weights,italian_sentence,predicted_sentence)\n",
    "    print('#'*20)\n",
    "    "
   ]
  },
  {
   "cell_type": "code",
   "execution_count": null,
   "metadata": {},
   "outputs": [
    {
     "name": "stderr",
     "output_type": "stream",
     "text": [
      "100%|██████████| 1000/1000 [00:48<00:00, 20.53it/s]"
     ]
    },
    {
     "name": "stdout",
     "output_type": "stream",
     "text": [
      "Average_BLEU_score for 1000 random sentences is : 0.7789334684572429\n"
     ]
    },
    {
     "name": "stderr",
     "output_type": "stream",
     "text": [
      "\n"
     ]
    }
   ],
   "source": [
    "# Predict on 1000 random sentences on test data and calculate the average BLEU score of these sentences.\n",
    "# https://www.nltk.org/_modules/nltk/translate/bleu_score.html\n",
    "\n",
    "import nltk.translate.bleu_score as bleu\n",
    "from tqdm import tqdm\n",
    "\n",
    "import warnings\n",
    "warnings.filterwarnings('ignore')\n",
    "\n",
    "BLEU_scores=[]\n",
    "\n",
    "#model_1.load_weights('model_1_weights.h5')\n",
    "\n",
    "for i in tqdm(range(1000)):\n",
    "    index= np.random.randint(low=0,high=validation.shape[0])\n",
    "    \n",
    "    italian_sentence=validation['italian'].values[index]\n",
    "    english_sentence=validation['english_out'].values[index]\n",
    "    \n",
    "    predicted_words_indices,att_weights,predicted_sentence=predict(italian_sentence,model_2)\n",
    "    \n",
    "    reference=english_sentence.split()[:-1]\n",
    "    translation=predicted_sentence.split()\n",
    "    \n",
    "    BLEU_scores.append(bleu.sentence_bleu([reference],translation,weights=[1]))\n",
    "    \n",
    "print('Average_BLEU_score for 1000 random sentences is :',np.mean(BLEU_scores))"
   ]
  },
  {
   "cell_type": "markdown",
   "metadata": {},
   "source": [
    "## Observations"
   ]
  },
  {
   "cell_type": "code",
   "execution_count": null,
   "metadata": {},
   "outputs": [
    {
     "name": "stdout",
     "output_type": "stream",
     "text": [
      "+---------------------------------+-----------------------------+------------------------------------------------+\n",
      "|              Model              | similarity scoring function | Average BLEU score for 1000 random data points |\n",
      "+---------------------------------+-----------------------------+------------------------------------------------+\n",
      "|      Simple encoder-decoder     |             None            |                     0.7115                     |\n",
      "| Encoder-decoder with attention  |             Dot             |                     0.7265                     |\n",
      "| Encoder-decoder with attention  |           General           |                     0.7394                     |\n",
      "| Encoder-decoder with attention  |            Concat           |                     0.7789                     |\n",
      "+---------------------------------+-----------------------------+------------------------------------------------+\n"
     ]
    }
   ],
   "source": [
    "# Write your observations on each of the scoring function\n",
    "from  prettytable import PrettyTable\n",
    "\n",
    "x=PrettyTable()\n",
    "x.field_names = [\"Model\",\"similarity scoring function\", \"Average BLEU score for 1000 random data points\"]\n",
    "x.add_row([\"Simple encoder-decoder\",\"None\", 0.7115])\n",
    "x.add_row([\"Encoder-decoder with attention \",\"Dot\" ,0.7265])\n",
    "x.add_row([\"Encoder-decoder with attention \",\"General\", 0.7394])\n",
    "x.add_row([\"Encoder-decoder with attention \",\"Concat\", 0.7789])\n",
    "print(x)\n"
   ]
  }
 ],
 "metadata": {
  "kernelspec": {
   "display_name": "Python 3 (ipykernel)",
   "language": "python",
   "name": "python3"
  },
  "language_info": {
   "codemirror_mode": {
    "name": "ipython",
    "version": 3
   },
   "file_extension": ".py",
   "mimetype": "text/x-python",
   "name": "python",
   "nbconvert_exporter": "python",
   "pygments_lexer": "ipython3",
   "version": "3.10.11"
  }
 },
 "nbformat": 4,
 "nbformat_minor": 4
}
